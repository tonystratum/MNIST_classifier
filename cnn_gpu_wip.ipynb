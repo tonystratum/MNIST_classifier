{
 "cells": [
  {
   "cell_type": "code",
   "execution_count": 1,
   "metadata": {
    "collapsed": true
   },
   "outputs": [],
   "source": [
    "import numpy as np\n",
    "import cupy as cp\n",
    "\n",
    "#import numpy as cp\n",
    "#np = cp\n",
    "\n",
    "import matplotlib.pyplot as plt\n",
    "from PIL import Image\n",
    "\n",
    "from load_dataset import load_dataset\n",
    "from load_cached_weights import load_weights\n",
    "\n",
    "import pandas as pd"
   ]
  },
  {
   "cell_type": "code",
   "execution_count": 2,
   "outputs": [],
   "source": [
    "# set path vars\n",
    "\n",
    "#dataset_path = \"C:\\\\Users\\\\user\\\\PycharmProjects\\\\my_cnn\\\\mnist_png\"\n",
    "dataset_path = 'mnist_png'\n",
    "cached_weights_path = 'cache'"
   ],
   "metadata": {
    "collapsed": false,
    "pycharm": {
     "name": "#%%\n"
    }
   }
  },
  {
   "cell_type": "code",
   "execution_count": 3,
   "outputs": [],
   "source": [
    "# activation functions and their derivatives\n",
    "\n",
    "# sigmoid\n",
    "def sigmoid(x):\n",
    "    return 1/(1+cp.exp(-x))\n",
    "\n",
    "# sigmoid derivative\n",
    "def sigmoid_d(x):\n",
    "    return cp.exp(-x) / cp.power(1 + cp.exp(-x), 2.)\n",
    "\n",
    "# ReLU\n",
    "def relu(x):\n",
    "    return cp.maximum(x, 0)\n",
    "\n",
    "# ReLU derivative\n",
    "def relu_d(x):\n",
    "    x[x<=0] = 0\n",
    "    x[x>0] = 1\n",
    "    return -x\n",
    "\n",
    "# tanh\n",
    "def tanh(x):\n",
    "    return cp.tanh(x)\n",
    "\n",
    "# tanh derivative\n",
    "def tanh_d(x):\n",
    "    return cp.power(cp.cosh(x), -2.)\n",
    "\n",
    "\n",
    "# softmax\n",
    "def softmax(x):\n",
    "    shiftx = x - cp.max(x)\n",
    "    exps = cp.exp(shiftx)\n",
    "    return exps / cp.sum(exps)\n",
    "\n",
    "\n",
    "# TODO: softmax\n",
    "# softmax_d\n",
    "def softmax_d(x):\n",
    "    # Reshape the 1-d softmax to 2-d so that np.dot will do the matrix multiplication\n",
    "    s = x.reshape(-1,1)\n",
    "    return np.diagflat(s) - np.dot(s, s.T)\n",
    "\n",
    "\n",
    "\n",
    "# function to choose between the activation functions in place\n",
    "def activation_function(Z, name, d=False):\n",
    "    if d:\n",
    "        if name == 'relu':\n",
    "            return relu_d(Z)\n",
    "        elif name == 'sigmoid':\n",
    "            return sigmoid_d(Z)\n",
    "        elif name == 'tanh':\n",
    "            return tanh_d(Z)\n",
    "        elif name == 'softmax':\n",
    "            return softmax_d(Z)\n",
    "    else:\n",
    "        if name == 'relu':\n",
    "            return relu(Z)\n",
    "        elif name == 'sigmoid':\n",
    "            return sigmoid(Z)\n",
    "        elif name == 'tanh':\n",
    "            return tanh(Z)\n",
    "        elif name == 'softmax':\n",
    "            return softmax(Z)\n"
   ],
   "metadata": {
    "collapsed": false,
    "pycharm": {
     "name": "#%%\n"
    }
   }
  },
  {
   "cell_type": "code",
   "execution_count": 4,
   "outputs": [],
   "source": [
    "# load the MNIST dataset\n",
    "\n",
    "dataset = load_dataset(dataset_path)\n",
    "X = dataset['train']['X']\n",
    "Y = dataset['train']['Y']"
   ],
   "metadata": {
    "collapsed": false,
    "pycharm": {
     "name": "#%%\n"
    }
   }
  },
  {
   "cell_type": "code",
   "execution_count": 5,
   "outputs": [],
   "source": [
    "# convert X, Y to CuPy arrays\n",
    "\n",
    "X = cp.array(X)[:, :1000]\n",
    "Y = cp.array(Y)[:, :1000]"
   ],
   "metadata": {
    "collapsed": false,
    "pycharm": {
     "name": "#%%\n"
    }
   }
  },
  {
   "cell_type": "code",
   "execution_count": 12,
   "outputs": [],
   "source": [
    "# load cached weights (if available)\n",
    "\n",
    "cached_weights = load_weights(cached_weights_path)\n",
    "W1 = cp.array(cached_weights['W']['W1'])\n",
    "W2 = cp.array(cached_weights['W']['W2'])\n",
    "W3 = cp.array(cached_weights['W']['W3'])\n",
    "\n",
    "b1 = cp.array(cached_weights['b']['B1'])\n",
    "b2 = cp.array(cached_weights['b']['B2'])\n",
    "b3 = cp.array(cached_weights['b']['B3'])\n",
    "\n",
    "#\n",
    "weights = [W1, W2, W3]\n",
    "biases = [b1, b2, b3]"
   ],
   "metadata": {
    "collapsed": false,
    "pycharm": {
     "name": "#%%\n"
    }
   }
  },
  {
   "cell_type": "code",
   "execution_count": 6,
   "outputs": [],
   "source": [
    "# set the layer sizes\n",
    "\n",
    "layer_sizes = [\n",
    "    X.shape[0],\n",
    "    500,\n",
    "    Y.shape[0]\n",
    "]"
   ],
   "metadata": {
    "collapsed": false,
    "pycharm": {
     "name": "#%%\n"
    }
   }
  },
  {
   "cell_type": "code",
   "execution_count": 7,
   "outputs": [],
   "source": [
    "# set the activations\n",
    "\n",
    "activations = [\n",
    "    'tanh',\n",
    "    'softmax',\n",
    "]\n",
    "\n",
    "assert(len(layer_sizes) == (len(activations) + 1))"
   ],
   "metadata": {
    "collapsed": false,
    "pycharm": {
     "name": "#%%\n"
    }
   }
  },
  {
   "cell_type": "code",
   "execution_count": 8,
   "outputs": [],
   "source": [
    "# param init according to layer sizes\n",
    "# !!! SKIP !!!\n",
    "# IF YOU HAVE LOADED THE CACHED ONES\n",
    "\n",
    "weights = [cp.random.randn(layer_sizes[index], layer_sizes[index - 1]) for index in range(1, len(layer_sizes))]\n",
    "biases = [cp.zeros((layer_sizes[index], 1)) for index in range(1, len(layer_sizes))]"
   ],
   "metadata": {
    "collapsed": false,
    "pycharm": {
     "name": "#%%\n"
    }
   }
  },
  {
   "cell_type": "code",
   "execution_count": 9,
   "outputs": [],
   "source": [
    "def forward(X, weights, biases, activations):\n",
    "    A = [X]\n",
    "    for weight, bias, activation in zip(weights, biases, activations):\n",
    "        Z = cp.dot(weight, A[-1]) + bias\n",
    "        A.append(activation_function(Z, activation))\n",
    "\n",
    "    return A"
   ],
   "metadata": {
    "collapsed": false,
    "pycharm": {
     "name": "#%%\n"
    }
   }
  },
  {
   "cell_type": "code",
   "execution_count": 10,
   "outputs": [],
   "source": [
    "def backward(A, dAL, weights, activations):\n",
    "\n",
    "    samples = A[0].shape[1]\n",
    "\n",
    "    dA = [dAL]\n",
    "    dZ = [activation_function(A[-1], activations[-1], d=True)]\n",
    "    dW = [cp.dot(dA[-1] * dZ[-1], A[-2].T)]\n",
    "    db = [cp.sum(dZ[-1], axis=1, keepdims=True)]\n",
    "\n",
    "    for index in range(1, len(weights)):\n",
    "        da = cp.dot(weights[-index].T, dA[-1] * dZ[-1])\n",
    "\n",
    "        dz = activation_function(A[-1-index],\n",
    "                                     activations[-1-index],\n",
    "                                     d=True)\n",
    "\n",
    "        dW.append(cp.dot(da * dz, A[-2-index].T) / samples)\n",
    "        db.append(cp.sum(dz, axis=1, keepdims=True) / samples)\n",
    "\n",
    "        dA.append(da)\n",
    "        dZ.append(dz)\n",
    "\n",
    "    dW.reverse()\n",
    "    db.reverse()\n",
    "\n",
    "    return dW, db"
   ],
   "metadata": {
    "collapsed": false,
    "pycharm": {
     "name": "#%%\n"
    }
   }
  },
  {
   "cell_type": "code",
   "execution_count": 13,
   "outputs": [
    {
     "name": "stdout",
     "output_type": "stream",
     "text": [
      "Cost: 81390.40647281398 @ i = 0\n"
     ]
    },
    {
     "ename": "ValueError",
     "evalue": "operands could not be broadcast together with shapes (10, 1000), (10000, 10000)",
     "output_type": "error",
     "traceback": [
      "\u001B[0;31m---------------------------------------------------------------------------\u001B[0m",
      "\u001B[0;31mValueError\u001B[0m                                Traceback (most recent call last)",
      "\u001B[0;32m<ipython-input-13-05f5528b7ed4>\u001B[0m in \u001B[0;36m<module>\u001B[0;34m\u001B[0m\n\u001B[1;32m     35\u001B[0m     \u001B[0mdAL\u001B[0m \u001B[0;34m=\u001B[0m \u001B[0;34m(\u001B[0m\u001B[0mA\u001B[0m\u001B[0;34m[\u001B[0m\u001B[0;34m-\u001B[0m\u001B[0;36m1\u001B[0m\u001B[0;34m]\u001B[0m \u001B[0;34m-\u001B[0m \u001B[0mY\u001B[0m\u001B[0;34m)\u001B[0m\u001B[0;31m#2 * (Y - A[-1])\u001B[0m\u001B[0;34m\u001B[0m\u001B[0;34m\u001B[0m\u001B[0m\n\u001B[1;32m     36\u001B[0m     \u001B[0;31m#dAL = -(A[-1]-Y)/(A[-1]*(1-A[-1]))\u001B[0m\u001B[0;34m\u001B[0m\u001B[0;34m\u001B[0m\u001B[0;34m\u001B[0m\u001B[0m\n\u001B[0;32m---> 37\u001B[0;31m     \u001B[0mdW\u001B[0m\u001B[0;34m,\u001B[0m \u001B[0mdb\u001B[0m \u001B[0;34m=\u001B[0m \u001B[0mbackward\u001B[0m\u001B[0;34m(\u001B[0m\u001B[0mA\u001B[0m\u001B[0;34m,\u001B[0m \u001B[0mdAL\u001B[0m\u001B[0;34m,\u001B[0m \u001B[0mweights\u001B[0m\u001B[0;34m,\u001B[0m \u001B[0mactivations\u001B[0m\u001B[0;34m)\u001B[0m\u001B[0;34m\u001B[0m\u001B[0;34m\u001B[0m\u001B[0m\n\u001B[0m\u001B[1;32m     38\u001B[0m \u001B[0;34m\u001B[0m\u001B[0m\n\u001B[1;32m     39\u001B[0m     \u001B[0;31m# update parameters\u001B[0m\u001B[0;34m\u001B[0m\u001B[0;34m\u001B[0m\u001B[0;34m\u001B[0m\u001B[0m\n",
      "\u001B[0;32m<ipython-input-10-fff30a52a009>\u001B[0m in \u001B[0;36mbackward\u001B[0;34m(A, dAL, weights, activations)\u001B[0m\n\u001B[1;32m      5\u001B[0m     \u001B[0mdA\u001B[0m \u001B[0;34m=\u001B[0m \u001B[0;34m[\u001B[0m\u001B[0mdAL\u001B[0m\u001B[0;34m]\u001B[0m\u001B[0;34m\u001B[0m\u001B[0;34m\u001B[0m\u001B[0m\n\u001B[1;32m      6\u001B[0m     \u001B[0mdZ\u001B[0m \u001B[0;34m=\u001B[0m \u001B[0;34m[\u001B[0m\u001B[0mactivation_function\u001B[0m\u001B[0;34m(\u001B[0m\u001B[0mA\u001B[0m\u001B[0;34m[\u001B[0m\u001B[0;34m-\u001B[0m\u001B[0;36m1\u001B[0m\u001B[0;34m]\u001B[0m\u001B[0;34m,\u001B[0m \u001B[0mactivations\u001B[0m\u001B[0;34m[\u001B[0m\u001B[0;34m-\u001B[0m\u001B[0;36m1\u001B[0m\u001B[0;34m]\u001B[0m\u001B[0;34m,\u001B[0m \u001B[0md\u001B[0m\u001B[0;34m=\u001B[0m\u001B[0;32mTrue\u001B[0m\u001B[0;34m)\u001B[0m\u001B[0;34m]\u001B[0m\u001B[0;34m\u001B[0m\u001B[0;34m\u001B[0m\u001B[0m\n\u001B[0;32m----> 7\u001B[0;31m     \u001B[0mdW\u001B[0m \u001B[0;34m=\u001B[0m \u001B[0;34m[\u001B[0m\u001B[0mcp\u001B[0m\u001B[0;34m.\u001B[0m\u001B[0mdot\u001B[0m\u001B[0;34m(\u001B[0m\u001B[0mdA\u001B[0m\u001B[0;34m[\u001B[0m\u001B[0;34m-\u001B[0m\u001B[0;36m1\u001B[0m\u001B[0;34m]\u001B[0m \u001B[0;34m*\u001B[0m \u001B[0mdZ\u001B[0m\u001B[0;34m[\u001B[0m\u001B[0;34m-\u001B[0m\u001B[0;36m1\u001B[0m\u001B[0;34m]\u001B[0m\u001B[0;34m,\u001B[0m \u001B[0mA\u001B[0m\u001B[0;34m[\u001B[0m\u001B[0;34m-\u001B[0m\u001B[0;36m2\u001B[0m\u001B[0;34m]\u001B[0m\u001B[0;34m.\u001B[0m\u001B[0mT\u001B[0m\u001B[0;34m)\u001B[0m\u001B[0;34m]\u001B[0m\u001B[0;34m\u001B[0m\u001B[0;34m\u001B[0m\u001B[0m\n\u001B[0m\u001B[1;32m      8\u001B[0m     \u001B[0mdb\u001B[0m \u001B[0;34m=\u001B[0m \u001B[0;34m[\u001B[0m\u001B[0mcp\u001B[0m\u001B[0;34m.\u001B[0m\u001B[0msum\u001B[0m\u001B[0;34m(\u001B[0m\u001B[0mdZ\u001B[0m\u001B[0;34m[\u001B[0m\u001B[0;34m-\u001B[0m\u001B[0;36m1\u001B[0m\u001B[0;34m]\u001B[0m\u001B[0;34m,\u001B[0m \u001B[0maxis\u001B[0m\u001B[0;34m=\u001B[0m\u001B[0;36m1\u001B[0m\u001B[0;34m,\u001B[0m \u001B[0mkeepdims\u001B[0m\u001B[0;34m=\u001B[0m\u001B[0;32mTrue\u001B[0m\u001B[0;34m)\u001B[0m\u001B[0;34m]\u001B[0m\u001B[0;34m\u001B[0m\u001B[0;34m\u001B[0m\u001B[0m\n\u001B[1;32m      9\u001B[0m \u001B[0;34m\u001B[0m\u001B[0m\n",
      "\u001B[0;32mcupy/core/core.pyx\u001B[0m in \u001B[0;36mcupy.core.core.ndarray.__mul__\u001B[0;34m()\u001B[0m\n",
      "\u001B[0;32mcupy/core/_kernel.pyx\u001B[0m in \u001B[0;36mcupy.core._kernel.ufunc.__call__\u001B[0;34m()\u001B[0m\n",
      "\u001B[0;32mcupy/core/_routines_manipulation.pyx\u001B[0m in \u001B[0;36mcupy.core._routines_manipulation._broadcast_core\u001B[0;34m()\u001B[0m\n",
      "\u001B[0;31mValueError\u001B[0m: operands could not be broadcast together with shapes (10, 1000), (10000, 10000)"
     ]
    }
   ],
   "source": [
    "# train the model\n",
    "\n",
    "iterations = 35\n",
    "print_cost = True\n",
    "print_at_i = 10\n",
    "\n",
    "samples = X.shape[1] # number of training samples (60000 here)\n",
    "\n",
    "learning_rate = .00001\n",
    "\n",
    "costs = []\n",
    "\n",
    "for i in range(iterations):\n",
    "\n",
    "    # forward propagation\n",
    "    #   push input data through the network\n",
    "    A = forward(X, weights, biases, activations)\n",
    "\n",
    "    # MSE\n",
    "    #   cost function, to compute the error\n",
    "    # TODO: try different cost functions or different metrics\n",
    "    #cost = cp.sum(cp.power(Y - A[-1], 2.)) / samples\n",
    "    #cost = -(1.0/samples) * cp.sum(Y*cp.log(A[-1]) + (1-Y)*cp.log(1-A[-1]))\n",
    "    cost = -cp.sum(cp.multiply(cp.log(A[-1]), Y))\n",
    "    costs.append(float(cp.squeeze(cost)))\n",
    "\n",
    "    if print_cost and i % print_at_i == 0:\n",
    "        print('Cost: {} @ i = {}'.format(cost, i))\n",
    "\n",
    "\n",
    "    # backward propagation\n",
    "    #   adjust the weights and biases to fit the data\n",
    "\n",
    "    # compute the derivatives of the weights and biases\n",
    "    dAL = (A[-1] - Y)#2 * (Y - A[-1])\n",
    "    #dAL = -(A[-1]-Y)/(A[-1]*(1-A[-1]))\n",
    "    dW, db = backward(A, dAL, weights, activations)\n",
    "\n",
    "    # update parameters\n",
    "    weights = [weights[index] + learning_rate * dW[index] for index in range(len(weights))]\n",
    "    biases = [biases[index] + learning_rate * db[index] for index in range(len(biases))]"
   ],
   "metadata": {
    "collapsed": false,
    "pycharm": {
     "name": "#%%\n"
    }
   }
  },
  {
   "cell_type": "code",
   "execution_count": 52,
   "outputs": [
    {
     "name": "stdout",
     "output_type": "stream",
     "text": [
      "0 [2.56191635e-09]\n",
      "1 [4.06180478e-15]\n",
      "2 [5.19838808e-13]\n",
      "3 [0.00019203]\n",
      "4 [0.68061326]\n",
      "5 [1.0944099e-07]\n",
      "6 [3.45751444e-06]\n",
      "7 [0.99999984]\n",
      "8 [3.09223169e-16]\n",
      "9 [1.21931793e-07]\n",
      "The system predicted:  7\n"
     ]
    },
    {
     "data": {
      "text/plain": "<Figure size 432x288 with 1 Axes>",
      "image/png": "[encoded data removed]"
     },
     "metadata": {
      "needs_background": "light"
     },
     "output_type": "display_data"
    }
   ],
   "source": [
    "# load a sample image from the test dataset\n",
    "# to evaluate the model\n",
    "\n",
    "img = np.asarray(\n",
    "        Image.open(\n",
    "            dataset_path + \"/testing/4/210.png\"\n",
    "        )\n",
    "    )\n",
    "plt.imshow(img)\n",
    "img = img.reshape((img.shape[0] * img.shape[1]))[:, cp.newaxis]\n",
    "\n",
    "X_n = img\n",
    "\n",
    "# to CuPy\n",
    "X_n = cp.array(X_n) / 255\n",
    "\n",
    "# predict it\n",
    "prediction = forward(X_n, weights, biases, activations)[-1]\n",
    "[print(index, p)for index, p in enumerate(list(prediction))]\n",
    "print('The system predicted: ', list(prediction).index(max(list(prediction))))"
   ],
   "metadata": {
    "collapsed": false,
    "pycharm": {
     "name": "#%%\n"
    }
   }
  },
  {
   "cell_type": "code",
   "execution_count": 11,
   "outputs": [
    {
     "name": "stdout",
     "output_type": "stream",
     "text": [
      "train accuracy: 89.99983333559821 %\n",
      "test accuracy: 89.99900000000177 %\n"
     ]
    }
   ],
   "source": [
    "# validate\n",
    "\n",
    "Y_prediction_train = forward(cp.array(dataset['train']['X']),\n",
    "                            weights, biases, activations)[-1]\n",
    "Y_train = cp.array(dataset['train']['Y'])\n",
    "\n",
    "\n",
    "Y_prediction_test = forward(cp.array(dataset['test']['X']),\n",
    "                            weights, biases, activations)[-1]\n",
    "Y_test = cp.array(dataset['test']['Y'])\n",
    "\n",
    "print(\"train accuracy: {} %\".format(100 - cp.mean(cp.abs(Y_prediction_train - Y_train)) * 100))\n",
    "print(\"test accuracy: {} %\".format(100 - cp.mean(cp.abs(Y_prediction_test - Y_test)) * 100))"
   ],
   "metadata": {
    "collapsed": false,
    "pycharm": {
     "name": "#%%\n"
    }
   }
  },
  {
   "cell_type": "code",
   "execution_count": 14,
   "outputs": [
    {
     "data": {
      "text/plain": "[None, None, None]"
     },
     "execution_count": 14,
     "metadata": {},
     "output_type": "execute_result"
    }
   ],
   "source": [
    "# save weights and biases\n",
    "\n",
    "weights_to_save = list(map(cp.asnumpy, weights.copy()))\n",
    "biases_to_save = list(map(cp.asnumpy, biases.copy()))\n",
    "\n",
    "[pd.DataFrame(df).to_csv('cache/W/w{}.csv'.format(index + 1), index=False) for index, df in enumerate(weights_to_save)]\n",
    "\n",
    "[pd.DataFrame(df).to_csv('cache/b/b{}.csv'.format(index + 1), index=False) for index, df in enumerate(biases_to_save)]"
   ],
   "metadata": {
    "collapsed": false,
    "pycharm": {
     "name": "#%%\n"
    }
   }
  },
  {
   "cell_type": "code",
   "execution_count": 50,
   "outputs": [
    {
     "data": {
      "text/plain": "<Figure size 432x288 with 1 Axes>",
      "image/png": "[encoded data removed]"
     },
     "metadata": {
      "needs_background": "light"
     },
     "output_type": "display_data"
    }
   ],
   "source": [
    "# plot\n",
    "plt.plot(range(len(costs)), costs)\n",
    "plt.show()"
   ],
   "metadata": {
    "collapsed": false,
    "pycharm": {
     "name": "#%%\n"
    }
   }
  },
  {
   "cell_type": "code",
   "execution_count": 12,
   "outputs": [
    {
     "name": "stdout",
     "output_type": "stream",
     "text": [
      "[[0. 0. 0. ... 0. 0. 0.]\n",
      " [0. 0. 0. ... 0. 0. 0.]\n",
      " [0. 0. 0. ... 0. 0. 0.]\n",
      " ...\n",
      " [0. 0. 0. ... 0. 0. 0.]\n",
      " [0. 0. 0. ... 0. 0. 0.]\n",
      " [0. 0. 0. ... 0. 0. 0.]]\n"
     ]
    }
   ],
   "source": [
    "print(softmax_d(Y))\n"
   ],
   "metadata": {
    "collapsed": false,
    "pycharm": {
     "name": "#%%\n"
    }
   }
  }
 ],
 "metadata": {
  "kernelspec": {
   "display_name": "Python 3",
   "language": "python",
   "name": "python3"
  },
  "language_info": {
   "codemirror_mode": {
    "name": "ipython",
    "version": 2
   },
   "file_extension": ".py",
   "mimetype": "text/x-python",
   "name": "python",
   "nbconvert_exporter": "python",
   "pygments_lexer": "ipython2",
   "version": "2.7.6"
  }
 },
 "nbformat": 4,
 "nbformat_minor": 0
}