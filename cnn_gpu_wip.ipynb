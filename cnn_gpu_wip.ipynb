{
 "cells": [
  {
   "cell_type": "code",
   "execution_count": 15,
   "metadata": {
    "collapsed": true
   },
   "outputs": [],
   "source": [
    "import numpy as np\n",
    "import cupy as cp\n",
    "\n",
    "import matplotlib.pyplot as plt\n",
    "from PIL import Image\n",
    "\n",
    "from load_dataset import load_dataset\n",
    "\n",
    "import pandas as pd"
   ]
  },
  {
   "cell_type": "code",
   "execution_count": 2,
   "outputs": [],
   "source": [
    "# set path vars\n",
    "\n",
    "#dataset_path = \"C:\\\\Users\\\\user\\\\PycharmProjects\\\\my_cnn\\\\mnist_png\"\n",
    "dataset_path = 'mnist_png'"
   ],
   "metadata": {
    "collapsed": false,
    "pycharm": {
     "name": "#%%\n"
    }
   }
  },
  {
   "cell_type": "code",
   "execution_count": 3,
   "outputs": [],
   "source": [
    "# activation functions and their derivatives\n",
    "\n",
    "# sigmoid\n",
    "def sigmoid(x):\n",
    "    return 1/(1+cp.exp(-x))\n",
    "\n",
    "#sigmoid derivative\n",
    "def sigmoid_d(x):\n",
    "    return cp.exp(-x) / cp.power(1 + cp.exp(-x), 2.)"
   ],
   "metadata": {
    "collapsed": false,
    "pycharm": {
     "name": "#%%\n"
    }
   }
  },
  {
   "cell_type": "code",
   "execution_count": 4,
   "outputs": [],
   "source": [
    "# load the MNIST dataset\n",
    "\n",
    "dataset = load_dataset(dataset_path)\n",
    "X = dataset['train']['X']\n",
    "Y = dataset['train']['Y']"
   ],
   "metadata": {
    "collapsed": false,
    "pycharm": {
     "name": "#%%\n"
    }
   }
  },
  {
   "cell_type": "code",
   "execution_count": 5,
   "outputs": [],
   "source": [
    "# convert X, Y to CuPy arrays\n",
    "\n",
    "X = cp.array(X)\n",
    "Y = cp.array(Y)"
   ],
   "metadata": {
    "collapsed": false,
    "pycharm": {
     "name": "#%%\n"
    }
   }
  },
  {
   "cell_type": "code",
   "execution_count": 6,
   "outputs": [],
   "source": [
    "# set the layer sizes\n",
    "\n",
    "layer_sizes = [\n",
    "    X.shape[0],\n",
    "    500,\n",
    "    100,\n",
    "    10\n",
    "]"
   ],
   "metadata": {
    "collapsed": false,
    "pycharm": {
     "name": "#%%\n"
    }
   }
  },
  {
   "cell_type": "code",
   "execution_count": 7,
   "outputs": [],
   "source": [
    "# initialize parameters\n",
    "\n",
    "W1 = cp.random.randn(layer_sizes[1], layer_sizes[0])\n",
    "b1 = cp.zeros((layer_sizes[1], 1))\n",
    "\n",
    "W2 = cp.random.randn(layer_sizes[2], layer_sizes[1])\n",
    "b2 = cp.zeros((layer_sizes[2], 1))\n",
    "\n",
    "W3 = cp.random.randn(layer_sizes[3], layer_sizes[2])\n",
    "b3 = cp.zeros((layer_sizes[3], 1))"
   ],
   "metadata": {
    "collapsed": false,
    "pycharm": {
     "name": "#%%\n"
    }
   }
  },
  {
   "cell_type": "code",
   "execution_count": 50,
   "outputs": [
    {
     "name": "stdout",
     "output_type": "stream",
     "text": [
      "Cost: 0.44793895870059713 @ i = 0\n",
      "Cost: 0.44742829927854705 @ i = 10\n",
      "Cost: 0.44702916413130794 @ i = 20\n",
      "Cost: 0.4467162471174245 @ i = 30\n",
      "Cost: 0.44645300149786216 @ i = 40\n",
      "Cost: 0.4461995724489364 @ i = 50\n",
      "Cost: 0.4459257433913557 @ i = 60\n",
      "Cost: 0.44561898222073154 @ i = 70\n",
      "Cost: 0.4452823116185733 @ i = 80\n",
      "Cost: 0.44492053056558317 @ i = 90\n",
      "Cost: 0.44452711079452495 @ i = 100\n",
      "Cost: 0.4440828652852264 @ i = 110\n",
      "Cost: 0.4435630965112233 @ i = 120\n",
      "Cost: 0.4429416416388346 @ i = 130\n",
      "Cost: 0.44221813937199017 @ i = 140\n",
      "Cost: 0.44143241324092153 @ i = 150\n",
      "Cost: 0.44062338496980336 @ i = 160\n",
      "Cost: 0.43979825503135883 @ i = 170\n",
      "Cost: 0.43895768738791013 @ i = 180\n",
      "Cost: 0.4381131865750824 @ i = 190\n",
      "Cost: 0.4372860986583178 @ i = 200\n",
      "Cost: 0.4365041122973866 @ i = 210\n",
      "Cost: 0.435793621829276 @ i = 220\n",
      "Cost: 0.4351690010770355 @ i = 230\n",
      "Cost: 0.4346323172888036 @ i = 240\n",
      "Cost: 0.43416985009543524 @ i = 250\n",
      "Cost: 0.433751544994045 @ i = 260\n",
      "Cost: 0.4333440010495357 @ i = 270\n",
      "Cost: 0.43292848386546157 @ i = 280\n",
      "Cost: 0.4325043595826325 @ i = 290\n",
      "Cost: 0.4320767063337061 @ i = 300\n",
      "Cost: 0.4316491502144889 @ i = 310\n",
      "Cost: 0.4312246409926497 @ i = 320\n",
      "Cost: 0.4308135303257545 @ i = 330\n",
      "Cost: 0.43042960697836485 @ i = 340\n",
      "Cost: 0.4300800976928224 @ i = 350\n",
      "Cost: 0.4297608382975647 @ i = 360\n",
      "Cost: 0.4294613453257795 @ i = 370\n",
      "Cost: 0.429174393883768 @ i = 380\n",
      "Cost: 0.4289014050823331 @ i = 390\n",
      "Cost: 0.42865748467222026 @ i = 400\n",
      "Cost: 0.42846219900580884 @ i = 410\n",
      "Cost: 0.42832451107262876 @ i = 420\n",
      "Cost: 0.42824620394178986 @ i = 430\n",
      "Cost: 0.4282216115284035 @ i = 440\n",
      "Cost: 0.4282405131578552 @ i = 450\n",
      "Cost: 0.42829598328131213 @ i = 460\n",
      "Cost: 0.4283867934984648 @ i = 470\n",
      "Cost: 0.42850939814832417 @ i = 480\n",
      "Cost: 0.4286522246903548 @ i = 490\n",
      "Cost: 0.42879994379427633 @ i = 500\n",
      "Cost: 0.42893408211518835 @ i = 510\n",
      "Cost: 0.4290313672295645 @ i = 520\n",
      "Cost: 0.42907225336675286 @ i = 530\n",
      "Cost: 0.4290532328265774 @ i = 540\n",
      "Cost: 0.42898078789379673 @ i = 550\n",
      "Cost: 0.42886306076367 @ i = 560\n",
      "Cost: 0.4287061523642283 @ i = 570\n",
      "Cost: 0.4285228063780531 @ i = 580\n",
      "Cost: 0.4283306266702585 @ i = 590\n",
      "Cost: 0.4281444396076284 @ i = 600\n",
      "Cost: 0.42797963938357003 @ i = 610\n",
      "Cost: 0.42785115620760455 @ i = 620\n",
      "Cost: 0.4277699030609803 @ i = 630\n",
      "Cost: 0.4277450639484746 @ i = 640\n",
      "Cost: 0.4277846551665584 @ i = 650\n",
      "Cost: 0.42789456815513566 @ i = 660\n",
      "Cost: 0.428079831144435 @ i = 670\n",
      "Cost: 0.42834226096647704 @ i = 680\n",
      "Cost: 0.4286779943308331 @ i = 690\n",
      "Cost: 0.4290783447571416 @ i = 700\n",
      "Cost: 0.42953292887716304 @ i = 710\n",
      "Cost: 0.43003307643103533 @ i = 720\n",
      "Cost: 0.4305717784438658 @ i = 730\n",
      "Cost: 0.43114321129782923 @ i = 740\n",
      "Cost: 0.43174206395684134 @ i = 750\n",
      "Cost: 0.43236075339157054 @ i = 760\n",
      "Cost: 0.43299149507424656 @ i = 770\n",
      "Cost: 0.43363108425446656 @ i = 780\n",
      "Cost: 0.43427849683197284 @ i = 790\n",
      "Cost: 0.434930455709052 @ i = 800\n",
      "Cost: 0.43557803147112245 @ i = 810\n",
      "Cost: 0.43621169422344935 @ i = 820\n",
      "Cost: 0.4368283744124119 @ i = 830\n"
     ]
    },
    {
     "ename": "KeyboardInterrupt",
     "evalue": "",
     "output_type": "error",
     "traceback": [
      "\u001B[0;31m---------------------------------------------------------------------------\u001B[0m",
      "\u001B[0;31mKeyboardInterrupt\u001B[0m                         Traceback (most recent call last)",
      "\u001B[0;32m<ipython-input-50-b4b674d0119c>\u001B[0m in \u001B[0;36m<module>\u001B[0;34m\u001B[0m\n\u001B[1;32m     27\u001B[0m     \u001B[0mcost\u001B[0m \u001B[0;34m=\u001B[0m \u001B[0mcp\u001B[0m\u001B[0;34m.\u001B[0m\u001B[0msum\u001B[0m\u001B[0;34m(\u001B[0m\u001B[0mcp\u001B[0m\u001B[0;34m.\u001B[0m\u001B[0mpower\u001B[0m\u001B[0;34m(\u001B[0m\u001B[0mY\u001B[0m \u001B[0;34m-\u001B[0m \u001B[0mA3\u001B[0m\u001B[0;34m,\u001B[0m \u001B[0;36m2.\u001B[0m\u001B[0;34m)\u001B[0m\u001B[0;34m)\u001B[0m \u001B[0;34m/\u001B[0m \u001B[0msamples\u001B[0m\u001B[0;34m\u001B[0m\u001B[0;34m\u001B[0m\u001B[0m\n\u001B[1;32m     28\u001B[0m     \u001B[0;31m# cost = -1 / samples * sum([Y[0][i] * cp.log(A3[0][i]) + (1 - Y[0][i]) * cp.log(1 - AL[0][i]) for i in range(AL.shape[1])])\u001B[0m\u001B[0;34m\u001B[0m\u001B[0;34m\u001B[0m\u001B[0;34m\u001B[0m\u001B[0m\n\u001B[0;32m---> 29\u001B[0;31m     \u001B[0mcosts\u001B[0m\u001B[0;34m.\u001B[0m\u001B[0mappend\u001B[0m\u001B[0;34m(\u001B[0m\u001B[0mfloat\u001B[0m\u001B[0;34m(\u001B[0m\u001B[0mcp\u001B[0m\u001B[0;34m.\u001B[0m\u001B[0msqueeze\u001B[0m\u001B[0;34m(\u001B[0m\u001B[0mcost\u001B[0m\u001B[0;34m)\u001B[0m\u001B[0;34m)\u001B[0m\u001B[0;34m)\u001B[0m\u001B[0;34m\u001B[0m\u001B[0;34m\u001B[0m\u001B[0m\n\u001B[0m\u001B[1;32m     30\u001B[0m \u001B[0;34m\u001B[0m\u001B[0m\n\u001B[1;32m     31\u001B[0m     \u001B[0;32mif\u001B[0m \u001B[0mprint_cost\u001B[0m \u001B[0;32mand\u001B[0m \u001B[0mi\u001B[0m \u001B[0;34m%\u001B[0m \u001B[0;36m10\u001B[0m \u001B[0;34m==\u001B[0m \u001B[0;36m0\u001B[0m\u001B[0;34m:\u001B[0m\u001B[0;34m\u001B[0m\u001B[0;34m\u001B[0m\u001B[0m\n",
      "\u001B[0;31mKeyboardInterrupt\u001B[0m: "
     ]
    }
   ],
   "source": [
    "# train the model\n",
    "\n",
    "iterations = 2500\n",
    "print_cost = True\n",
    "\n",
    "samples = X.shape[1] # number of training samples (60000 here)\n",
    "\n",
    "learning_rate = 0.000001\n",
    "\n",
    "costs = []\n",
    "\n",
    "for i in range(iterations):\n",
    "\n",
    "    # forward propagation\n",
    "    #   push input data through the network\n",
    "    Z1 = cp.dot(W1, X) + b1\n",
    "    A1 = sigmoid(Z1)\n",
    "\n",
    "    Z2 = cp.dot(W2, A1) + b2\n",
    "    A2 = sigmoid(Z2)\n",
    "\n",
    "    Z3 = cp.dot(W3, A2) + b3\n",
    "    A3 = sigmoid(Z3)\n",
    "\n",
    "    # MSE\n",
    "    #   cost function, to compute the error\n",
    "    cost = cp.sum(cp.power(Y - A3, 2.)) / samples\n",
    "    # cost = -1 / samples * sum([Y[0][i] * cp.log(A3[0][i]) + (1 - Y[0][i]) * cp.log(1 - AL[0][i]) for i in range(AL.shape[1])])\n",
    "    costs.append(float(cp.squeeze(cost)))\n",
    "\n",
    "    if print_cost and i % 10 == 0:\n",
    "        print('Cost: {} @ i = {}'.format(cost, i))\n",
    "\n",
    "\n",
    "    # backward propagation\n",
    "    #   adjust the weights and biases to fit the data\n",
    "\n",
    "    # compute the derivatives of the weights and biases\n",
    "    # dW3\n",
    "    dA3 = 2 * (Y - A3)\n",
    "    dZ3 = sigmoid_d(A3)\n",
    "    dW3 = cp.dot(dA3 * dZ3, A2.T)\n",
    "    db3 = cp.sum(dZ3, axis=1, keepdims=True)\n",
    "\n",
    "    # dW2\n",
    "    dA2 = cp.dot(W3.T, dA3 * dZ3)\n",
    "    dZ2 = sigmoid_d(A2)\n",
    "    dW2 = cp.dot(dA2 * dZ2, A1.T)\n",
    "    db2 = cp.sum(dZ2, axis=1, keepdims=True)\n",
    "\n",
    "    # dW1\n",
    "    dA1 = cp.dot(W2.T, dA2 * dZ2)\n",
    "    dZ1 = sigmoid_d(A1)\n",
    "    dW1 = cp.dot(dA1 * dZ1, X.T)\n",
    "    db1 = cp.sum(dZ1, axis=1, keepdims=True)\n",
    "\n",
    "\n",
    "    # update parameters\n",
    "    W1 += learning_rate * dW1\n",
    "    W2 += learning_rate * dW2\n",
    "    W3 += learning_rate * dW3\n",
    "\n",
    "    b1 += learning_rate * db1\n",
    "    b2 += learning_rate * db2\n",
    "    b3 += learning_rate * db3"
   ],
   "metadata": {
    "collapsed": false,
    "pycharm": {
     "name": "#%%\n"
    }
   }
  },
  {
   "cell_type": "code",
   "execution_count": 8,
   "outputs": [],
   "source": [
    "# predict\n",
    "\n",
    "def predict(X):\n",
    "    Z1 = cp.dot(W1, X) + b1\n",
    "    A1 = sigmoid(Z1)\n",
    "\n",
    "    Z2 = cp.dot(W2, A1) + b2\n",
    "    A2 = sigmoid(Z2)\n",
    "\n",
    "    Z3 = cp.dot(W3, A2) + b3\n",
    "    A3 = sigmoid(Z3)\n",
    "\n",
    "    return A3"
   ],
   "metadata": {
    "collapsed": false,
    "pycharm": {
     "name": "#%%\n"
    }
   }
  },
  {
   "cell_type": "code",
   "execution_count": 56,
   "outputs": [
    {
     "name": "stdout",
     "output_type": "stream",
     "text": [
      "0 [0.00376376]\n",
      "1 [0.00301685]\n",
      "2 [0.04853541]\n",
      "3 [0.00701581]\n",
      "4 [0.67970816]\n",
      "5 [0.10858257]\n",
      "6 [0.00303651]\n",
      "7 [0.00966378]\n",
      "8 [0.00989911]\n",
      "9 [0.2246295]\n",
      "The system predicted:  4\n"
     ]
    },
    {
     "data": {
      "text/plain": "<Figure size 432x288 with 1 Axes>",
      "image/png": "[encoded data removed]"
     },
     "metadata": {
      "needs_background": "light"
     },
     "output_type": "display_data"
    }
   ],
   "source": [
    "# load a sample image from the test dataset\n",
    "# to evaluate the model\n",
    "\n",
    "img = np.asarray(\n",
    "        Image.open(\n",
    "            dataset_path + \"/testing/4/27.png\"\n",
    "        )\n",
    "    )\n",
    "plt.imshow(img)\n",
    "img = img.reshape((img.shape[0] * img.shape[1]))[:, cp.newaxis]\n",
    "\n",
    "X_n = img\n",
    "\n",
    "# to CuPy\n",
    "X_n = cp.array(X_n) / 255\n",
    "\n",
    "# predict it\n",
    "prediction = predict(X_n)\n",
    "[print(index, p)for index, p in enumerate(list(prediction))]\n",
    "print('The system predicted: ', list(prediction).index(max(list(prediction))))"
   ],
   "metadata": {
    "collapsed": false,
    "pycharm": {
     "name": "#%%\n"
    }
   }
  },
  {
   "cell_type": "code",
   "execution_count": 52,
   "outputs": [
    {
     "name": "stdout",
     "output_type": "stream",
     "text": [
      "train accuracy: 90.20738554603417 %\n",
      "test accuracy: 90.2189643947789 %\n"
     ]
    }
   ],
   "source": [
    "# validate\n",
    "\n",
    "Y_prediction_train = predict(cp.array(dataset['train']['X']))\n",
    "Y_train = cp.array(dataset['train']['Y'])\n",
    "\n",
    "Y_prediction_test = predict(cp.array(dataset['test']['X']))\n",
    "Y_test = cp.array(dataset['test']['Y'])\n",
    "\n",
    "print(\"train accuracy: {} %\".format(100 - np.mean(np.abs(Y_prediction_train - Y_train)) * 100))\n",
    "print(\"test accuracy: {} %\".format(100 - np.mean(np.abs(Y_prediction_test - Y_test)) * 100))"
   ],
   "metadata": {
    "collapsed": false,
    "pycharm": {
     "name": "#%%\n"
    }
   }
  },
  {
   "cell_type": "code",
   "execution_count": 48,
   "outputs": [
    {
     "data": {
      "text/plain": "[None, None, None]"
     },
     "execution_count": 48,
     "metadata": {},
     "output_type": "execute_result"
    }
   ],
   "source": [
    "# save weights and biases\n",
    "\n",
    "W1_df = pd.DataFrame(cp.asnumpy(W1))\n",
    "W2_df = pd.DataFrame(cp.asnumpy(W2))\n",
    "W3_df = pd.DataFrame(cp.asnumpy(W3))\n",
    "\n",
    "b1_df = pd.DataFrame(cp.asnumpy(b1))\n",
    "b2_df = pd.DataFrame(cp.asnumpy(b2))\n",
    "b3_df = pd.DataFrame(cp.asnumpy(b3))\n",
    "\n",
    "[df.to_csv('cache/W/' + name) for df, name in zip(\n",
    "    (W1_df, W2_df, W3_df),\n",
    "    ('w1.csv', 'w2.csv', 'w3.csv'))]\n",
    "\n",
    "[df.to_csv('cache/b/' + name) for df, name in zip(\n",
    "    (b1_df, b2_df, b3_df),\n",
    "    ('b1.csv', 'b2.csv', 'b3.csv'))]"
   ],
   "metadata": {
    "collapsed": false,
    "pycharm": {
     "name": "#%%\n"
    }
   }
  },
  {
   "cell_type": "code",
   "execution_count": 38,
   "outputs": [
    {
     "data": {
      "text/plain": "<Figure size 432x288 with 1 Axes>",
      "image/png": "[encoded data removed]"
     },
     "metadata": {
      "needs_background": "light"
     },
     "output_type": "display_data"
    }
   ],
   "source": [
    "# plot\n",
    "plt.plot(range(iterations), costs)\n",
    "plt.show()\n"
   ],
   "metadata": {
    "collapsed": false,
    "pycharm": {
     "name": "#%%\n"
    }
   }
  }
 ],
 "metadata": {
  "kernelspec": {
   "display_name": "Python 3",
   "language": "python",
   "name": "python3"
  },
  "language_info": {
   "codemirror_mode": {
    "name": "ipython",
    "version": 2
   },
   "file_extension": ".py",
   "mimetype": "text/x-python",
   "name": "python",
   "nbconvert_exporter": "python",
   "pygments_lexer": "ipython2",
   "version": "2.7.6"
  }
 },
 "nbformat": 4,
 "nbformat_minor": 0
}