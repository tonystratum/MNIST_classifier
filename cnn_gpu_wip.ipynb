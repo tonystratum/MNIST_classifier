{
 "cells": [
  {
   "cell_type": "code",
   "execution_count": 1,
   "metadata": {
    "collapsed": true
   },
   "outputs": [],
   "source": [
    "import numpy as np\n",
    "import cupy as cp\n",
    "\n",
    "#import numpy as cp\n",
    "#np = cp\n",
    "\n",
    "import matplotlib.pyplot as plt\n",
    "from PIL import Image\n",
    "\n",
    "from load_dataset import load_dataset\n",
    "from load_cached_weights import load_weights\n",
    "\n",
    "import pandas as pd\n",
    "\n",
    "from multiprocessing import Pool, cpu_count"
   ]
  },
  {
   "cell_type": "code",
   "execution_count": 2,
   "outputs": [],
   "source": [
    "# set path vars\n",
    "\n",
    "#dataset_path = \"C:\\\\Users\\\\user\\\\PycharmProjects\\\\my_cnn\\\\mnist_png\"\n",
    "dataset_path = 'mnist_png'\n",
    "cached_weights_path = 'cache'"
   ],
   "metadata": {
    "collapsed": false,
    "pycharm": {
     "name": "#%%\n"
    }
   }
  },
  {
   "cell_type": "code",
   "execution_count": 3,
   "outputs": [],
   "source": [
    "# activation functions and their derivatives\n",
    "\n",
    "# sigmoid\n",
    "def sigmoid(x):\n",
    "    return 1/(1 + cp.exp(-x))\n",
    "\n",
    "# sigmoid derivative\n",
    "def sigmoid_d(x):\n",
    "    return cp.exp(-x) / cp.power(1 + cp.exp(-x), 2.)\n",
    "\n",
    "# ReLU\n",
    "def relu(x):\n",
    "    return cp.maximum(x, 0)\n",
    "\n",
    "# ReLU derivative\n",
    "def relu_d(x):\n",
    "    x[x<=0] = 0\n",
    "    x[x>0] = 1\n",
    "    return x\n",
    "\n",
    "# tanh\n",
    "def tanh(x):\n",
    "    return cp.tanh(x)\n",
    "\n",
    "# tanh derivative\n",
    "def tanh_d(x):\n",
    "    return cp.power(cp.cosh(x), -2.)\n",
    "\n",
    "\n",
    "# softmax\n",
    "def s(x):\n",
    "    shiftx = x - np.max(x)\n",
    "    exps = np.exp(shiftx)\n",
    "    return exps / np.sum(exps)\n",
    "\n",
    "def softmax(x):\n",
    "    slices = np.hsplit(cp.asnumpy(x), x.shape[1])\n",
    "    p = Pool(cpu_count())\n",
    "    concat = np.concatenate(list(p.map(s, slices)), axis=1)\n",
    "    return cp.array(concat)\n",
    "\n",
    "\n",
    "# TODO: softmax\n",
    "# softmax_d\n",
    "def softmax_d(x):\n",
    "    # Reshape the 1-d softmax to 2-d so that np.dot will do the matrix multiplication\n",
    "    def s_d(x):\n",
    "        s = x.reshape(-1, 1)\n",
    "        return cp.diagflat(s) - cp.dot(s, s.T)\n",
    "    #return cp.apply_along_axis(s_d, 0, x)\n",
    "    return cp.mean(\n",
    "        cp.apply_along_axis(s_d, 0, x),\n",
    "        axis=0\n",
    "    )\n",
    "\n",
    "\n",
    "# function to choose between the activation functions in place\n",
    "def activation_function(Z, name, d=False):\n",
    "    if d:\n",
    "        if name == 'relu':\n",
    "            return relu_d(Z)\n",
    "        elif name == 'sigmoid':\n",
    "            return sigmoid_d(Z)\n",
    "        elif name == 'tanh':\n",
    "            return tanh_d(Z)\n",
    "        elif name == 'softmax':\n",
    "            return softmax_d(Z)\n",
    "    else:\n",
    "        if name == 'relu':\n",
    "            return relu(Z)\n",
    "        elif name == 'sigmoid':\n",
    "            return sigmoid(Z)\n",
    "        elif name == 'tanh':\n",
    "            return tanh(Z)\n",
    "        elif name == 'softmax':\n",
    "            return softmax(Z)\n"
   ],
   "metadata": {
    "collapsed": false,
    "pycharm": {
     "name": "#%%\n"
    }
   }
  },
  {
   "cell_type": "code",
   "execution_count": 4,
   "outputs": [],
   "source": [
    "# load the MNIST dataset\n",
    "\n",
    "dataset = load_dataset(dataset_path)\n",
    "X = dataset['train']['X']\n",
    "Y = dataset['train']['Y']\n",
    "\n",
    "# convert X, Y to CuPy arrays\n",
    "\n",
    "X = cp.array(X)#[:, :500]\n",
    "Y = cp.array(Y)#[:, :500]"
   ],
   "metadata": {
    "collapsed": false,
    "pycharm": {
     "name": "#%%\n"
    }
   }
  },
  {
   "cell_type": "code",
   "execution_count": 5,
   "outputs": [],
   "source": [
    "# load cached weights (if available)\n",
    "\n",
    "cached_weights = load_weights(cached_weights_path)\n",
    "weights = [cp.array(cached_weights['W'][W]) for W in sorted(cached_weights['W'].keys())]\n",
    "biases = [cp.array(cached_weights['b'][b]) for b in sorted(cached_weights['b'].keys())]"
   ],
   "metadata": {
    "collapsed": false,
    "pycharm": {
     "name": "#%%\n"
    }
   }
  },
  {
   "cell_type": "code",
   "execution_count": 6,
   "outputs": [],
   "source": [
    "# set the layer sizes\n",
    "\n",
    "layer_sizes = [\n",
    "    X.shape[0],\n",
    "    32,\n",
    "    Y.shape[0]\n",
    "]"
   ],
   "metadata": {
    "collapsed": false,
    "pycharm": {
     "name": "#%%\n"
    }
   }
  },
  {
   "cell_type": "code",
   "execution_count": 7,
   "outputs": [],
   "source": [
    "# set the activations\n",
    "\n",
    "activations = [\n",
    "    'relu',\n",
    "    'softmax',\n",
    "]\n",
    "\n",
    "assert len(layer_sizes) == (len(activations) + 1)"
   ],
   "metadata": {
    "collapsed": false,
    "pycharm": {
     "name": "#%%\n"
    }
   }
  },
  {
   "cell_type": "code",
   "execution_count": 8,
   "outputs": [],
   "source": [
    "def forward(X, weights, biases, activations):\n",
    "    A = [X]\n",
    "    for weight, bias, activation in zip(weights, biases, activations):\n",
    "        Z = cp.dot(weight, A[-1]) + bias\n",
    "        A.append(activation_function(Z, activation))\n",
    "\n",
    "    return A"
   ],
   "metadata": {
    "collapsed": false,
    "pycharm": {
     "name": "#%%\n"
    }
   }
  },
  {
   "cell_type": "code",
   "execution_count": 9,
   "outputs": [],
   "source": [
    "def backward(A, dAL, dZL, weights, activations):\n",
    "\n",
    "    samples = A[0].shape[1]\n",
    "\n",
    "    dA = [dAL]\n",
    "    dZ = [dZL]\n",
    "    dW = [cp.dot(dA[-1] * dZ[-1], A[-2].T) / samples]\n",
    "    db = [cp.sum(dZ[-1], axis=1, keepdims=True) / samples]\n",
    "\n",
    "    for index in range(1, len(weights)):\n",
    "        da = cp.dot(weights[-index].T, dA[-1] * dZ[-1])\n",
    "\n",
    "        dz = activation_function(A[-1-index],\n",
    "                                     activations[-1-index],\n",
    "                                     d=True)\n",
    "\n",
    "        dW.append(cp.dot(da * dz, A[-2-index].T) / samples)\n",
    "        db.append(cp.sum(dz, axis=1, keepdims=True) / samples)\n",
    "\n",
    "        dA.append(da)\n",
    "        dZ.append(dz)\n",
    "\n",
    "    dW.reverse()\n",
    "    db.reverse()\n",
    "\n",
    "    return dW, db\n"
   ],
   "metadata": {
    "collapsed": false,
    "pycharm": {
     "name": "#%%\n"
    }
   }
  },
  {
   "cell_type": "code",
   "execution_count": 10,
   "outputs": [],
   "source": [
    "def loss(predictions, actual, matrix=False):\n",
    "    assert predictions.shape == actual.shape\n",
    "    if matrix:\n",
    "        return -(actual * cp.log(predictions))\n",
    "    return -cp.sum(actual * cp.log(predictions))"
   ],
   "metadata": {
    "collapsed": false,
    "pycharm": {
     "name": "#%%\n"
    }
   }
  },
  {
   "cell_type": "code",
   "execution_count": 82,
   "outputs": [],
   "source": [
    "# param init according to layer sizes\n",
    "#   skip if cached ones are loaded\n",
    "\n",
    "cp.random.seed(1337)\n",
    "\n",
    "k = .5\n",
    "\n",
    "weights = [cp.random.randn(layer_sizes[index], layer_sizes[index - 1]) * k  for index in range(1, len(layer_sizes))]\n",
    "biases = [cp.zeros((layer_sizes[index], 1)) for index in range(1, len(layer_sizes))]"
   ],
   "metadata": {
    "collapsed": false,
    "pycharm": {
     "name": "#%%\n"
    }
   }
  },
  {
   "cell_type": "code",
   "execution_count": 11,
   "outputs": [
    {
     "name": "stdout",
     "output_type": "stream",
     "text": [
      "Cost: 0.28815491710232966 @ i = 1\n"
     ]
    }
   ],
   "source": [
    "# train the model\n",
    "\n",
    "iterations = 1\n",
    "learning_rate = .04\n",
    "stop_if_cost_goes_up = False\n",
    "\n",
    "print_cost = True\n",
    "print_at_i = 1\n",
    "\n",
    "samples = X.shape[1] # number of training samples (60000 here)\n",
    "\n",
    "costs = []\n",
    "\n",
    "for i in range(1, iterations + 1):\n",
    "\n",
    "    # forward propagation\n",
    "    #   push input data through the network\n",
    "    A = forward(X, weights, biases, activations)\n",
    "\n",
    "    # Cross Entropy\n",
    "    #   cost function, to compute the error\n",
    "    cost = loss(A[-1], Y) / samples\n",
    "    if i > 1 and stop_if_cost_goes_up:\n",
    "        if not cost < costs[-1]:\n",
    "            print(f'Cost went up @ i = {i}')\n",
    "            break\n",
    "    costs.append(float(cp.squeeze(cost)))\n",
    "    if print_cost and i % print_at_i == 0:\n",
    "        print(f'Cost: {cost} @ i = {i}')\n",
    "\n",
    "    # backward propagation\n",
    "    #   adjust the weights and biases to fit the data\n",
    "\n",
    "    #   compute the derivatives of the weights and biases\n",
    "    dAL = cp.ones(Y.shape)\n",
    "    dZL = (A[-1] - Y)\n",
    "    dW, db = backward(A, dAL, dZL, weights, activations)\n",
    "\n",
    "    #   update the parameters\n",
    "    weights = [weights[index] - learning_rate * dW[index] for index in range(len(weights))]\n",
    "    biases = [biases[index] - learning_rate * db[index] for index in range(len(biases))]"
   ],
   "metadata": {
    "collapsed": false,
    "pycharm": {
     "name": "#%%\n"
    }
   }
  },
  {
   "cell_type": "code",
   "execution_count": 84,
   "outputs": [
    {
     "data": {
      "text/plain": "<Figure size 432x288 with 1 Axes>",
      "image/png": "[encoded data removed]"
     },
     "metadata": {
      "needs_background": "light"
     },
     "output_type": "display_data"
    }
   ],
   "source": [
    "# plot the cost over time\n",
    "plt.plot(range(len(costs)), costs)\n",
    "plt.show()"
   ],
   "metadata": {
    "collapsed": false,
    "pycharm": {
     "name": "#%%\n"
    }
   }
  },
  {
   "cell_type": "code",
   "execution_count": 12,
   "outputs": [
    {
     "name": "stdout",
     "output_type": "stream",
     "text": [
      "0 [1.57016562e-15]\n",
      "1 [5.43257913e-10]\n",
      "2 [1.33037367e-08]\n",
      "3 [0.99999979]\n",
      "4 [1.63222344e-14]\n",
      "5 [1.43341201e-08]\n",
      "6 [1.99324058e-16]\n",
      "7 [4.95013848e-10]\n",
      "8 [1.82704152e-07]\n",
      "9 [1.71874119e-09]\n",
      "The system predicted:  3\n"
     ]
    },
    {
     "data": {
      "text/plain": "<Figure size 432x288 with 1 Axes>",
      "image/png": "[encoded data removed]"
     },
     "metadata": {
      "needs_background": "light"
     },
     "output_type": "display_data"
    }
   ],
   "source": [
    "# load a sample image from the test dataset\n",
    "# to evaluate the model\n",
    "\n",
    "test_image_path = '3/500.png'\n",
    "\n",
    "img = np.asarray(\n",
    "        Image.open(\n",
    "            dataset_path + \"/testing/\" + test_image_path\n",
    "        )\n",
    "    )\n",
    "plt.imshow(img)\n",
    "img = img.reshape((img.shape[0] * img.shape[1]))[:, cp.newaxis]\n",
    "\n",
    "X_n = img\n",
    "\n",
    "# regularize, then to CuPy\n",
    "X_n = cp.array(X_n) / 255\n",
    "\n",
    "# predict it\n",
    "prediction = forward(X_n, weights, biases, activations)[-1]\n",
    "[print(index, p)for index, p in enumerate(list(prediction))]\n",
    "print('The system predicted: ', list(prediction).index(max(list(prediction))))"
   ],
   "metadata": {
    "collapsed": false,
    "pycharm": {
     "name": "#%%\n"
    }
   }
  },
  {
   "cell_type": "code",
   "execution_count": 14,
   "outputs": [
    {
     "name": "stdout",
     "output_type": "stream",
     "text": [
      "train accuracy: 97.35143466198888 %\n",
      "test accuracy: 97.44375550628125 %\n",
      "train accuracy: 92.13833333333334 %\n",
      "test accuracy: 92.02 %\n"
     ]
    }
   ],
   "source": [
    "# validate\n",
    "\n",
    "Y_prediction_train = forward(cp.array(dataset['train']['X']),\n",
    "                            weights, biases, activations)[-1]\n",
    "Y_train = cp.array(dataset['train']['Y'])\n",
    "\n",
    "\n",
    "Y_prediction_test = forward(cp.array(dataset['test']['X']),\n",
    "                            weights, biases, activations)[-1]\n",
    "Y_test = cp.array(dataset['test']['Y'])\n",
    "\n",
    "#print(\"train accuracy: {} %\".format(100 - cp.mean(cp.abs(Y_prediction_train - Y_train)) * 100))\n",
    "#print(\"test accuracy: {} %\".format(100 - cp.mean(cp.abs(Y_prediction_test - Y_test)) * 100))\n",
    "\n",
    "train_pred_indices = cp.argmax(Y_prediction_train, axis=0)\n",
    "train_reference_indices = cp.argmax(Y_train, axis=0)\n",
    "\n",
    "test_pred_indices = cp.argmax(Y_prediction_test, axis=0)\n",
    "test_reference_indices = cp.argmax(Y_test, axis=0)\n",
    "\n",
    "wrong_indices_train = cp.asnumpy((train_pred_indices != train_reference_indices).sum()).reshape(1)[0]\n",
    "wrong_indices_test = cp.asnumpy((test_pred_indices != test_reference_indices).sum()).reshape(1)[0]\n",
    "\n",
    "print(\"train accuracy: {} %\".format(100 - (100 * wrong_indices_train / train_reference_indices.shape[0])))\n",
    "print(\"test accuracy: {} %\".format(100 - (100 * wrong_indices_test / test_reference_indices.shape[0])))"
   ],
   "metadata": {
    "collapsed": false,
    "pycharm": {
     "name": "#%%\n"
    }
   }
  },
  {
   "cell_type": "code",
   "execution_count": 15,
   "outputs": [
    {
     "data": {
      "text/plain": "[None, None]"
     },
     "execution_count": 15,
     "metadata": {},
     "output_type": "execute_result"
    }
   ],
   "source": [
    "# save weights and biases\n",
    "\n",
    "#weights_to_save = list(map(cp.asnumpy, weights.copy()))\n",
    "#biases_to_save = list(map(cp.asnumpy, biases.copy()))\n",
    "\n",
    "weights_to_save = weights.copy()\n",
    "biases_to_save = biases.copy()\n",
    "\n",
    "[pd.DataFrame(df).to_csv('cache/W/w{}.csv'.format(index + 1), index=False) for index, df in enumerate(weights_to_save)]\n",
    "\n",
    "[pd.DataFrame(df).to_csv('cache/b/b{}.csv'.format(index + 1), index=False) for index, df in enumerate(biases_to_save)]\n"
   ],
   "metadata": {
    "collapsed": false,
    "pycharm": {
     "name": "#%%\n"
    }
   }
  }
 ],
 "metadata": {
  "kernelspec": {
   "display_name": "Python 3",
   "language": "python",
   "name": "python3"
  },
  "language_info": {
   "codemirror_mode": {
    "name": "ipython",
    "version": 2
   },
   "file_extension": ".py",
   "mimetype": "text/x-python",
   "name": "python",
   "nbconvert_exporter": "python",
   "pygments_lexer": "ipython2",
   "version": "2.7.6"
  }
 },
 "nbformat": 4,
 "nbformat_minor": 0
}