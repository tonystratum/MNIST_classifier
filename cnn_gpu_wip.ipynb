{
 "cells": [
  {
   "cell_type": "code",
   "execution_count": 15,
   "metadata": {
    "collapsed": true
   },
   "outputs": [],
   "source": [
    "import numpy as np\n",
    "import cupy as cp\n",
    "\n",
    "import matplotlib.pyplot as plt\n",
    "from PIL import Image\n",
    "\n",
    "from load_dataset import load_dataset\n",
    "\n",
    "import pandas as pd"
   ]
  },
  {
   "cell_type": "code",
   "execution_count": 2,
   "outputs": [],
   "source": [
    "# set path vars\n",
    "\n",
    "#dataset_path = \"C:\\\\Users\\\\user\\\\PycharmProjects\\\\my_cnn\\\\mnist_png\"\n",
    "dataset_path = 'mnist_png'"
   ],
   "metadata": {
    "collapsed": false,
    "pycharm": {
     "name": "#%%\n"
    }
   }
  },
  {
   "cell_type": "code",
   "execution_count": 3,
   "outputs": [],
   "source": [
    "# activation functions and their derivatives\n",
    "\n",
    "# sigmoid\n",
    "def sigmoid(x):\n",
    "    return 1/(1+cp.exp(-x))\n",
    "\n",
    "#sigmoid derivative\n",
    "def sigmoid_d(x):\n",
    "    return cp.exp(-x) / cp.power(1 + cp.exp(-x), 2.)"
   ],
   "metadata": {
    "collapsed": false,
    "pycharm": {
     "name": "#%%\n"
    }
   }
  },
  {
   "cell_type": "code",
   "execution_count": 4,
   "outputs": [],
   "source": [
    "# load the MNIST dataset\n",
    "\n",
    "dataset = load_dataset(dataset_path)\n",
    "X = dataset['train']['X']\n",
    "Y = dataset['train']['Y']"
   ],
   "metadata": {
    "collapsed": false,
    "pycharm": {
     "name": "#%%\n"
    }
   }
  },
  {
   "cell_type": "code",
   "execution_count": 5,
   "outputs": [],
   "source": [
    "# convert X, Y to CuPy arrays\n",
    "\n",
    "X = cp.array(X)\n",
    "Y = cp.array(Y)"
   ],
   "metadata": {
    "collapsed": false,
    "pycharm": {
     "name": "#%%\n"
    }
   }
  },
  {
   "cell_type": "code",
   "execution_count": 6,
   "outputs": [],
   "source": [
    "# set the layer sizes\n",
    "\n",
    "layer_sizes = [\n",
    "    X.shape[0],\n",
    "    500,\n",
    "    100,\n",
    "    10\n",
    "]"
   ],
   "metadata": {
    "collapsed": false,
    "pycharm": {
     "name": "#%%\n"
    }
   }
  },
  {
   "cell_type": "code",
   "execution_count": 7,
   "outputs": [],
   "source": [
    "# initialize parameters\n",
    "\n",
    "W1 = cp.random.randn(layer_sizes[1], layer_sizes[0])\n",
    "b1 = cp.zeros((layer_sizes[1], 1))\n",
    "\n",
    "W2 = cp.random.randn(layer_sizes[2], layer_sizes[1])\n",
    "b2 = cp.zeros((layer_sizes[2], 1))\n",
    "\n",
    "W3 = cp.random.randn(layer_sizes[3], layer_sizes[2])\n",
    "b3 = cp.zeros((layer_sizes[3], 1))"
   ],
   "metadata": {
    "collapsed": false,
    "pycharm": {
     "name": "#%%\n"
    }
   }
  },
  {
   "cell_type": "code",
   "execution_count": 37,
   "outputs": [
    {
     "name": "stdout",
     "output_type": "stream",
     "text": [
      "Cost: 0.5114945622011766 @ i = 0\n",
      "Cost: 0.5109445389058408 @ i = 10\n",
      "Cost: 0.5103993236194057 @ i = 20\n",
      "Cost: 0.5098588993617538 @ i = 30\n",
      "Cost: 0.509323244817625 @ i = 40\n",
      "Cost: 0.508792334051663 @ i = 50\n",
      "Cost: 0.5082661364152332 @ i = 60\n",
      "Cost: 0.507744616586991 @ i = 70\n",
      "Cost: 0.5072277346818372 @ i = 80\n",
      "Cost: 0.5067154463690948 @ i = 90\n",
      "Cost: 0.5062077029568736 @ i = 100\n",
      "Cost: 0.5057044514214379 @ i = 110\n",
      "Cost: 0.505205634383941 @ i = 120\n",
      "Cost: 0.5047111900585927 @ i = 130\n",
      "Cost: 0.5042210522132072 @ i = 140\n",
      "Cost: 0.5037351501927694 @ i = 150\n",
      "Cost: 0.503253409057754 @ i = 160\n",
      "Cost: 0.5027757498813309 @ i = 170\n",
      "Cost: 0.502302090234704 @ i = 180\n",
      "Cost: 0.5018323448703836 @ i = 190\n",
      "Cost: 0.5013664265925508 @ i = 200\n",
      "Cost: 0.5009042472849206 @ i = 210\n",
      "Cost: 0.5004457190517074 @ i = 220\n",
      "Cost: 0.49999075541704496 @ i = 230\n",
      "Cost: 0.4995392725219327 @ i = 240\n",
      "Cost: 0.4990911902542998 @ i = 250\n",
      "Cost: 0.4986464332463232 @ i = 260\n",
      "Cost: 0.49820493167409746 @ i = 270\n",
      "Cost: 0.49776662180025777 @ i = 280\n",
      "Cost: 0.4973314462136367 @ i = 290\n",
      "Cost: 0.4968993537447529 @ i = 300\n",
      "Cost: 0.49647029907212487 @ i = 310\n",
      "Cost: 0.4960442420763918 @ i = 320\n",
      "Cost: 0.4956211470347704 @ i = 330\n",
      "Cost: 0.49520098176263433 @ i = 340\n",
      "Cost: 0.4947837167928106 @ i = 350\n",
      "Cost: 0.4943693246406833 @ i = 360\n",
      "Cost: 0.4939577791521699 @ i = 370\n",
      "Cost: 0.49354905489454653 @ i = 380\n",
      "Cost: 0.493143126541368 @ i = 390\n",
      "Cost: 0.4927399682216689 @ i = 400\n",
      "Cost: 0.49233955283729347 @ i = 410\n",
      "Cost: 0.49194185138441887 @ i = 420\n",
      "Cost: 0.49154683233481306 @ i = 430\n",
      "Cost: 0.4911544611355792 @ i = 440\n",
      "Cost: 0.49076469987563737 @ i = 450\n",
      "Cost: 0.4903775071483655 @ i = 460\n",
      "Cost: 0.48999283811809535 @ i = 470\n",
      "Cost: 0.48961064477776406 @ i = 480\n",
      "Cost: 0.48923087636866436 @ i = 490\n",
      "Cost: 0.48885347992221867 @ i = 500\n",
      "Cost: 0.4884784008783732 @ i = 510\n",
      "Cost: 0.4881055837352096 @ i = 520\n",
      "Cost: 0.48773497268898686 @ i = 530\n",
      "Cost: 0.4873665122321638 @ i = 540\n",
      "Cost: 0.4870001476880088 @ i = 550\n",
      "Cost: 0.48663582567299635 @ i = 560\n",
      "Cost: 0.48627349449092144 @ i = 570\n",
      "Cost: 0.4859131044738994 @ i = 580\n",
      "Cost: 0.4855546082935012 @ i = 590\n",
      "Cost: 0.4851979612688328 @ i = 600\n",
      "Cost: 0.48484312169667576 @ i = 610\n",
      "Cost: 0.48449005122206196 @ i = 620\n",
      "Cost: 0.48413871525701224 @ i = 630\n",
      "Cost: 0.483789083442599 @ i = 640\n",
      "Cost: 0.48344113013738876 @ i = 650\n",
      "Cost: 0.4830948349060354 @ i = 660\n",
      "Cost: 0.4827501829770933 @ i = 670\n",
      "Cost: 0.4824071656397015 @ i = 680\n",
      "Cost: 0.48206578055398236 @ i = 690\n",
      "Cost: 0.48172603195776836 @ i = 700\n",
      "Cost: 0.48138793075970676 @ i = 710\n",
      "Cost: 0.48105149451313495 @ i = 720\n",
      "Cost: 0.4807167472649424 @ i = 730\n",
      "Cost: 0.480383719269804 @ i = 740\n",
      "Cost: 0.4800524465558095 @ i = 750\n",
      "Cost: 0.4797229703268069 @ i = 760\n",
      "Cost: 0.47939533619302405 @ i = 770\n",
      "Cost: 0.4790695932353898 @ i = 780\n",
      "Cost: 0.47874579292786995 @ i = 790\n",
      "Cost: 0.47842398796122687 @ i = 800\n",
      "Cost: 0.47810423102559846 @ i = 810\n",
      "Cost: 0.47778657361439886 @ i = 820\n",
      "Cost: 0.4774710649070359 @ i = 830\n",
      "Cost: 0.4771577507742795 @ i = 840\n",
      "Cost: 0.4768466729312376 @ i = 850\n",
      "Cost: 0.4765378682430611 @ i = 860\n",
      "Cost: 0.47623136817174344 @ i = 870\n",
      "Cost: 0.4759271983415548 @ i = 880\n",
      "Cost: 0.4756253781969471 @ i = 890\n",
      "Cost: 0.47532592072959534 @ i = 900\n",
      "Cost: 0.47502883225868164 @ i = 910\n",
      "Cost: 0.47473411225792045 @ i = 920\n",
      "Cost: 0.4744417532316673 @ i = 930\n",
      "Cost: 0.47415174064902366 @ i = 940\n",
      "Cost: 0.4738640529486454 @ i = 950\n",
      "Cost: 0.47357866162856693 @ i = 960\n",
      "Cost: 0.4732955314359813 @ i = 970\n",
      "Cost: 0.47301462067264877 @ i = 980\n",
      "Cost: 0.47273588163263547 @ i = 990\n",
      "Cost: 0.4724592611894957 @ i = 1000\n",
      "Cost: 0.4721847015479521 @ i = 1010\n",
      "Cost: 0.47191214116876895 @ i = 1020\n",
      "Cost: 0.47164151586398434 @ i = 1030\n",
      "Cost: 0.4713727600438725 @ i = 1040\n",
      "Cost: 0.47110580807958335 @ i = 1050\n",
      "Cost: 0.4708405957299606 @ i = 1060\n",
      "Cost: 0.47057706157080653 @ i = 1070\n",
      "Cost: 0.47031514836164945 @ i = 1080\n",
      "Cost: 0.4700548042887593 @ i = 1090\n",
      "Cost: 0.4697959840322028 @ i = 1100\n",
      "Cost: 0.46953864961696673 @ i = 1110\n",
      "Cost: 0.4692827710217631 @ i = 1120\n",
      "Cost: 0.4690283265327978 @ i = 1130\n",
      "Cost: 0.468775302842752 @ i = 1140\n",
      "Cost: 0.4685236949068044 @ i = 1150\n",
      "Cost: 0.4682735055768703 @ i = 1160\n",
      "Cost: 0.46802474504147695 @ i = 1170\n",
      "Cost: 0.4677774301012843 @ i = 1180\n",
      "Cost: 0.4675315833093067 @ i = 1190\n",
      "Cost: 0.467287232001377 @ i = 1200\n",
      "Cost: 0.46704440723789403 @ i = 1210\n",
      "Cost: 0.46680314267423256 @ i = 1220\n",
      "Cost: 0.4665634733758621 @ i = 1230\n",
      "Cost: 0.4663254345960087 @ i = 1240\n",
      "Cost: 0.4660890605384595 @ i = 1250\n",
      "Cost: 0.46585438313480665 @ i = 1260\n",
      "Cost: 0.4656214308722984 @ i = 1270\n",
      "Cost: 0.46539022771342853 @ i = 1280\n",
      "Cost: 0.4651607921495643 @ i = 1290\n",
      "Cost: 0.46493313642707373 @ i = 1300\n",
      "Cost: 0.4647072659754632 @ i = 1310\n",
      "Cost: 0.46448317905408515 @ i = 1320\n",
      "Cost: 0.46426086661911015 @ i = 1330\n",
      "Cost: 0.4640403123982027 @ i = 1340\n",
      "Cost: 0.46382149314897647 @ i = 1350\n",
      "Cost: 0.46360437907037483 @ i = 1360\n",
      "Cost: 0.46338893433413203 @ i = 1370\n",
      "Cost: 0.4631751177060283 @ i = 1380\n",
      "Cost: 0.46296288323264206 @ i = 1390\n",
      "Cost: 0.46275218097726806 @ i = 1400\n",
      "Cost: 0.4625429577969684 @ i = 1410\n",
      "Cost: 0.46233515815975323 @ i = 1420\n",
      "Cost: 0.46212872500517804 @ i = 1430\n",
      "Cost: 0.46192360065210886 @ i = 1440\n",
      "Cost: 0.4617197277535322 @ i = 1450\n",
      "Cost: 0.4615170502904205 @ i = 1460\n",
      "Cost: 0.46131551458607734 @ i = 1470\n",
      "Cost: 0.46111507031112253 @ i = 1480\n",
      "Cost: 0.4609156714398053 @ i = 1490\n",
      "Cost: 0.4607172771128918 @ i = 1500\n",
      "Cost: 0.46051985236255333 @ i = 1510\n",
      "Cost: 0.4603233686609207 @ i = 1520\n",
      "Cost: 0.4601278042656135 @ i = 1530\n",
      "Cost: 0.4599331443509166 @ i = 1540\n",
      "Cost: 0.45973938093010996 @ i = 1550\n",
      "Cost: 0.45954651259035845 @ i = 1560\n",
      "Cost: 0.45935454407438 @ i = 1570\n",
      "Cost: 0.4591634857513361 @ i = 1580\n",
      "Cost: 0.45897335302231224 @ i = 1590\n",
      "Cost: 0.4587841657035915 @ i = 1600\n",
      "Cost: 0.4585959474246344 @ i = 1610\n",
      "Cost: 0.4584087250687317 @ i = 1620\n",
      "Cost: 0.45822252827432775 @ i = 1630\n",
      "Cost: 0.45803738900542024 @ i = 1640\n",
      "Cost: 0.4578533411912047 @ i = 1650\n",
      "Cost: 0.45767042042871675 @ i = 1660\n",
      "Cost: 0.45748866373772284 @ i = 1670\n",
      "Cost: 0.45730810935443755 @ i = 1680\n",
      "Cost: 0.45712879654971417 @ i = 1690\n",
      "Cost: 0.4569507654581335 @ i = 1700\n",
      "Cost: 0.4567740569068172 @ i = 1710\n",
      "Cost: 0.45659871223651544 @ i = 1720\n",
      "Cost: 0.4564247731119236 @ i = 1730\n",
      "Cost: 0.45625228132230883 @ i = 1740\n",
      "Cost: 0.456081278576324 @ i = 1750\n",
      "Cost: 0.4559118062955776 @ i = 1760\n",
      "Cost: 0.45574390540991555 @ i = 1770\n",
      "Cost: 0.4555776161540143 @ i = 1780\n",
      "Cost: 0.4554129778609576 @ i = 1790\n",
      "Cost: 0.45525002874539144 @ i = 1800\n",
      "Cost: 0.4550888056678153 @ i = 1810\n",
      "Cost: 0.45492934387314177 @ i = 1820\n",
      "Cost: 0.45477167670064783 @ i = 1830\n",
      "Cost: 0.45461583526797644 @ i = 1840\n",
      "Cost: 0.45446184813769674 @ i = 1850\n",
      "Cost: 0.45430974097988 @ i = 1860\n",
      "Cost: 0.4541595362472371 @ i = 1870\n",
      "Cost: 0.4540112528801413 @ i = 1880\n",
      "Cost: 0.45386490605731694 @ i = 1890\n",
      "Cost: 0.45372050700450417 @ i = 1900\n",
      "Cost: 0.453578062868631 @ i = 1910\n",
      "Cost: 0.45343757665966283 @ i = 1920\n",
      "Cost: 0.4532990472570527 @ i = 1930\n",
      "Cost: 0.45316246947324385 @ i = 1940\n",
      "Cost: 0.4530278341635232 @ i = 1950\n",
      "Cost: 0.45289512837019097 @ i = 1960\n",
      "Cost: 0.45276433548981304 @ i = 1970\n",
      "Cost: 0.4526354354554044 @ i = 1980\n",
      "Cost: 0.45250840493049255 @ i = 1990\n",
      "Cost: 0.4523832175184354 @ i = 2000\n",
      "Cost: 0.45225984399688485 @ i = 2010\n",
      "Cost: 0.45213825259233914 @ i = 2020\n",
      "Cost: 0.45201840931169657 @ i = 2030\n",
      "Cost: 0.45190027834544466 @ i = 2040\n",
      "Cost: 0.4517838225502456 @ i = 2050\n",
      "Cost: 0.4516690040079544 @ i = 2060\n",
      "Cost: 0.4515557846452654 @ i = 2070\n",
      "Cost: 0.451444126885638 @ i = 2080\n",
      "Cost: 0.45133399429542537 @ i = 2090\n",
      "Cost: 0.4512253521813057 @ i = 2100\n",
      "Cost: 0.4511181680973805 @ i = 2110\n",
      "Cost: 0.45101241222766086 @ i = 2120\n",
      "Cost: 0.4509080576220053 @ i = 2130\n",
      "Cost: 0.45080508027887445 @ i = 2140\n",
      "Cost: 0.45070345908408294 @ i = 2150\n",
      "Cost: 0.45060317562859575 @ i = 2160\n",
      "Cost: 0.45050421393837325 @ i = 2170\n",
      "Cost: 0.4504065601540743 @ i = 2180\n",
      "Cost: 0.4503102021978014 @ i = 2190\n",
      "Cost: 0.4502151294586446 @ i = 2200\n",
      "Cost: 0.4501213325199526 @ i = 2210\n",
      "Cost: 0.45002880294089415 @ i = 2220\n",
      "Cost: 0.4499375330949353 @ i = 2230\n",
      "Cost: 0.44984751605996787 @ i = 2240\n",
      "Cost: 0.4497587455500281 @ i = 2250\n",
      "Cost: 0.4496712158770783 @ i = 2260\n",
      "Cost: 0.44958492193271204 @ i = 2270\n",
      "Cost: 0.4494998591828411 @ i = 2280\n",
      "Cost: 0.449416023672178 @ i = 2290\n",
      "Cost: 0.4493334120384239 @ i = 2300\n",
      "Cost: 0.4492520215376512 @ i = 2310\n",
      "Cost: 0.44917185008203714 @ i = 2320\n",
      "Cost: 0.4490928962889766 @ i = 2330\n",
      "Cost: 0.44901515953720955 @ i = 2340\n",
      "Cost: 0.44893864002178535 @ i = 2350\n",
      "Cost: 0.448863338796363 @ i = 2360\n",
      "Cost: 0.4487892577893899 @ i = 2370\n",
      "Cost: 0.4487163997807318 @ i = 2380\n",
      "Cost: 0.4486447683276395 @ i = 2390\n",
      "Cost: 0.4485743676333926 @ i = 2400\n",
      "Cost: 0.4485052023580306 @ i = 2410\n",
      "Cost: 0.448437277377371 @ i = 2420\n",
      "Cost: 0.4483705975029621 @ i = 2430\n",
      "Cost: 0.4483051671806655 @ i = 2440\n",
      "Cost: 0.4482409901883864 @ i = 2450\n",
      "Cost: 0.44817806935364424 @ i = 2460\n",
      "Cost: 0.44811640630924504 @ i = 2470\n",
      "Cost: 0.4480560013007549 @ i = 2480\n",
      "Cost: 0.4479968530535294 @ i = 2490\n"
     ]
    }
   ],
   "source": [
    "# train the model\n",
    "\n",
    "iterations = 2500\n",
    "print_cost = True\n",
    "\n",
    "samples = X.shape[1] # number of training samples (60000 here)\n",
    "\n",
    "learning_rate = 0.000001\n",
    "\n",
    "costs = []\n",
    "\n",
    "for i in range(iterations):\n",
    "\n",
    "    # forward propagation\n",
    "    #   push input data through the network\n",
    "    Z1 = cp.dot(W1, X) + b1\n",
    "    A1 = sigmoid(Z1)\n",
    "\n",
    "    Z2 = cp.dot(W2, A1) + b2\n",
    "    A2 = sigmoid(Z2)\n",
    "\n",
    "    Z3 = cp.dot(W3, A2) + b3\n",
    "    A3 = sigmoid(Z3)\n",
    "\n",
    "    # MSE\n",
    "    #   cost function, to compute the error\n",
    "    cost = cp.sum(cp.power(Y - A3, 2.)) / samples\n",
    "    # cost = -1 / samples * sum([Y[0][i] * cp.log(A3[0][i]) + (1 - Y[0][i]) * cp.log(1 - AL[0][i]) for i in range(AL.shape[1])])\n",
    "    costs.append(float(cp.squeeze(cost)))\n",
    "\n",
    "    if print_cost and i % 10 == 0:\n",
    "        print('Cost: {} @ i = {}'.format(cost, i))\n",
    "\n",
    "\n",
    "    # backward propagation\n",
    "    #   adjust the weights and biases to fit the data\n",
    "\n",
    "    # compute the derivatives of the weights and biases\n",
    "    # dW3\n",
    "    dA3 = 2 * (Y - A3)\n",
    "    dZ3 = sigmoid_d(A3)\n",
    "    dW3 = cp.dot(dA3 * dZ3, A2.T)\n",
    "    db3 = cp.sum(dZ3, axis=1, keepdims=True)\n",
    "\n",
    "    # dW2\n",
    "    dA2 = cp.dot(W3.T, dA3 * dZ3)\n",
    "    dZ2 = sigmoid_d(A2)\n",
    "    dW2 = cp.dot(dA2 * dZ2, A1.T)\n",
    "    db2 = cp.sum(dZ2, axis=1, keepdims=True)\n",
    "\n",
    "    # dW1\n",
    "    dA1 = cp.dot(W2.T, dA2 * dZ2)\n",
    "    dZ1 = sigmoid_d(A1)\n",
    "    dW1 = cp.dot(dA1 * dZ1, X.T)\n",
    "    db1 = cp.sum(dZ1, axis=1, keepdims=True)\n",
    "\n",
    "\n",
    "    # update parameters\n",
    "    W1 += learning_rate * dW1\n",
    "    W2 += learning_rate * dW2\n",
    "    W3 += learning_rate * dW3\n",
    "\n",
    "    b1 += learning_rate * db1\n",
    "    b2 += learning_rate * db2\n",
    "    b3 += learning_rate * db3"
   ],
   "metadata": {
    "collapsed": false,
    "pycharm": {
     "name": "#%%\n"
    }
   }
  },
  {
   "cell_type": "code",
   "execution_count": 8,
   "outputs": [],
   "source": [
    "# predict\n",
    "\n",
    "def predict(X):\n",
    "    Z1 = cp.dot(W1, X) + b1\n",
    "    A1 = sigmoid(Z1)\n",
    "\n",
    "    Z2 = cp.dot(W2, A1) + b2\n",
    "    A2 = sigmoid(Z2)\n",
    "\n",
    "    Z3 = cp.dot(W3, A2) + b3\n",
    "    A3 = sigmoid(Z3)\n",
    "\n",
    "    return A3"
   ],
   "metadata": {
    "collapsed": false,
    "pycharm": {
     "name": "#%%\n"
    }
   }
  },
  {
   "cell_type": "code",
   "execution_count": 46,
   "outputs": [
    {
     "name": "stdout",
     "output_type": "stream",
     "text": [
      "[[4.04094668e-03]\n",
      " [3.78103403e-06]\n",
      " [1.45099342e-01]\n",
      " [1.25157400e-01]\n",
      " [2.53165331e-01]\n",
      " [4.41387198e-05]\n",
      " [4.10937609e-04]\n",
      " [9.92805840e-01]\n",
      " [3.69249904e-03]\n",
      " [4.60553503e-01]]\n",
      "The system predicted:  7\n"
     ]
    },
    {
     "data": {
      "text/plain": "<Figure size 432x288 with 1 Axes>",
      "image/png": "[encoded data removed]"
     },
     "metadata": {
      "needs_background": "light"
     },
     "output_type": "display_data"
    }
   ],
   "source": [
    "# load a sample image from the test dataset\n",
    "# to evaluate the model\n",
    "\n",
    "img = np.asarray(\n",
    "        Image.open(\n",
    "            dataset_path + \"/testing/7/262.png\"\n",
    "        )\n",
    "    )\n",
    "plt.imshow(img)\n",
    "img = img.reshape((img.shape[0] * img.shape[1]))[:, cp.newaxis]\n",
    "\n",
    "X_n = img\n",
    "\n",
    "# to CuPy\n",
    "X_n = cp.array(X_n)\n",
    "\n",
    "# predict it\n",
    "prediction = predict(X_n)\n",
    "print(prediction)\n",
    "print('The system predicted: ', list(prediction).index(max(list(prediction))))"
   ],
   "metadata": {
    "collapsed": false,
    "pycharm": {
     "name": "#%%\n"
    }
   }
  },
  {
   "cell_type": "code",
   "execution_count": 47,
   "outputs": [
    {
     "name": "stdout",
     "output_type": "stream",
     "text": [
      "train accuracy: 91.47039514110956 %\n",
      "test accuracy: 91.64055874471231 %\n"
     ]
    }
   ],
   "source": [
    "# validate\n",
    "\n",
    "Y_prediction_train = predict(cp.array(dataset['train']['X']))\n",
    "Y_train = cp.array(dataset['train']['Y'])\n",
    "\n",
    "Y_prediction_test = predict(cp.array(dataset['test']['X']))\n",
    "Y_test = cp.array(dataset['test']['Y'])\n",
    "\n",
    "print(\"train accuracy: {} %\".format(100 - np.mean(np.abs(Y_prediction_train - Y_train)) * 100))\n",
    "print(\"test accuracy: {} %\".format(100 - np.mean(np.abs(Y_prediction_test - Y_test)) * 100))"
   ],
   "metadata": {
    "collapsed": false,
    "pycharm": {
     "name": "#%%\n"
    }
   }
  },
  {
   "cell_type": "code",
   "execution_count": 19,
   "outputs": [
    {
     "data": {
      "text/plain": "[None, None, None]"
     },
     "execution_count": 19,
     "metadata": {},
     "output_type": "execute_result"
    }
   ],
   "source": [
    "# save weights and biases\n",
    "\n",
    "W1_df = pd.DataFrame(cp.asnumpy(W1))\n",
    "W2_df = pd.DataFrame(cp.asnumpy(W2))\n",
    "W3_df = pd.DataFrame(cp.asnumpy(W3))\n",
    "\n",
    "b1_df = pd.DataFrame(cp.asnumpy(b1))\n",
    "b2_df = pd.DataFrame(cp.asnumpy(b2))\n",
    "b3_df = pd.DataFrame(cp.asnumpy(b3))\n",
    "\n",
    "[df.to_csv('cache/W/' + name) for df, name in zip(\n",
    "    (W1_df, W2_df, W3_df),\n",
    "    ('w1.csv', 'w2.csv', 'w3.csv'))]\n",
    "\n",
    "[df.to_csv('cache/b/' + name) for df, name in zip(\n",
    "    (b1_df, b2_df, b3_df),\n",
    "    ('b1.csv', 'b2.csv', 'b3.csv'))]"
   ],
   "metadata": {
    "collapsed": false,
    "pycharm": {
     "name": "#%%\n"
    }
   }
  },
  {
   "cell_type": "code",
   "execution_count": 38,
   "outputs": [
    {
     "data": {
      "text/plain": "<Figure size 432x288 with 1 Axes>",
      "image/png": "[encoded data removed]"
     },
     "metadata": {
      "needs_background": "light"
     },
     "output_type": "display_data"
    }
   ],
   "source": [
    "# plot\n",
    "plt.plot(range(iterations), costs)\n",
    "plt.show()\n"
   ],
   "metadata": {
    "collapsed": false,
    "pycharm": {
     "name": "#%%\n"
    }
   }
  }
 ],
 "metadata": {
  "kernelspec": {
   "display_name": "Python 3",
   "language": "python",
   "name": "python3"
  },
  "language_info": {
   "codemirror_mode": {
    "name": "ipython",
    "version": 2
   },
   "file_extension": ".py",
   "mimetype": "text/x-python",
   "name": "python",
   "nbconvert_exporter": "python",
   "pygments_lexer": "ipython2",
   "version": "2.7.6"
  }
 },
 "nbformat": 4,
 "nbformat_minor": 0
}