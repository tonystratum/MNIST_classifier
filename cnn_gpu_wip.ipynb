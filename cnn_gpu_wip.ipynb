{
 "cells": [
  {
   "cell_type": "code",
   "execution_count": 1,
   "metadata": {
    "collapsed": true
   },
   "outputs": [],
   "source": [
    "#import numpy as np\n",
    "#import cupy as cp\n",
    "\n",
    "import numpy as cp\n",
    "np = cp\n",
    "\n",
    "import matplotlib.pyplot as plt\n",
    "from PIL import Image\n",
    "\n",
    "from load_dataset import load_dataset\n",
    "from load_cached_weights import load_weights\n",
    "\n",
    "import pandas as pd"
   ]
  },
  {
   "cell_type": "code",
   "execution_count": 2,
   "outputs": [],
   "source": [
    "# set path vars\n",
    "\n",
    "#dataset_path = \"C:\\\\Users\\\\user\\\\PycharmProjects\\\\my_cnn\\\\mnist_png\"\n",
    "dataset_path = 'mnist_png'\n",
    "cached_weights_path = 'cache'"
   ],
   "metadata": {
    "collapsed": false,
    "pycharm": {
     "name": "#%%\n"
    }
   }
  },
  {
   "cell_type": "code",
   "execution_count": 3,
   "outputs": [],
   "source": [
    "# activation functions and their derivatives\n",
    "\n",
    "# sigmoid\n",
    "def sigmoid(x):\n",
    "    return 1/(1 + cp.exp(-x))\n",
    "\n",
    "# sigmoid derivative\n",
    "def sigmoid_d(x):\n",
    "    return cp.exp(-x) / cp.power(1 + cp.exp(-x), 2.)\n",
    "\n",
    "# ReLU\n",
    "def relu(x):\n",
    "    return cp.maximum(x, 0)\n",
    "\n",
    "# ReLU derivative\n",
    "def relu_d(x):\n",
    "    x[x<=0] = 0\n",
    "    x[x>0] = 1\n",
    "    return x\n",
    "\n",
    "# tanh\n",
    "def tanh(x):\n",
    "    return cp.tanh(x)\n",
    "\n",
    "# tanh derivative\n",
    "def tanh_d(x):\n",
    "    return cp.power(cp.cosh(x), -2.)\n",
    "\n",
    "\n",
    "# softmax\n",
    "def softmax(x):\n",
    "    def s(x):\n",
    "        shiftx = x - cp.max(x)\n",
    "        exps = cp.exp(shiftx)\n",
    "        return exps / cp.sum(exps)\n",
    "    return cp.apply_along_axis(s, 0, x)\n",
    "\n",
    "\n",
    "# TODO: softmax\n",
    "# softmax_d\n",
    "def softmax_d(x):\n",
    "    # Reshape the 1-d softmax to 2-d so that np.dot will do the matrix multiplication\n",
    "    def s_d(x):\n",
    "        s = x.reshape(-1, 1)\n",
    "        return cp.diagflat(s) - cp.dot(s, s.T)\n",
    "    #return cp.apply_along_axis(s_d, 0, x)\n",
    "    return cp.mean(\n",
    "        cp.apply_along_axis(s_d, 0, x),\n",
    "        axis=0\n",
    "    )\n",
    "\n",
    "\n",
    "# function to choose between the activation functions in place\n",
    "def activation_function(Z, name, d=False):\n",
    "    if d:\n",
    "        if name == 'relu':\n",
    "            return relu_d(Z)\n",
    "        elif name == 'sigmoid':\n",
    "            return sigmoid_d(Z)\n",
    "        elif name == 'tanh':\n",
    "            return tanh_d(Z)\n",
    "        elif name == 'softmax':\n",
    "            return softmax_d(Z)\n",
    "    else:\n",
    "        if name == 'relu':\n",
    "            return relu(Z)\n",
    "        elif name == 'sigmoid':\n",
    "            return sigmoid(Z)\n",
    "        elif name == 'tanh':\n",
    "            return tanh(Z)\n",
    "        elif name == 'softmax':\n",
    "            return softmax(Z)\n"
   ],
   "metadata": {
    "collapsed": false,
    "pycharm": {
     "name": "#%%\n"
    }
   }
  },
  {
   "cell_type": "code",
   "execution_count": 4,
   "outputs": [],
   "source": [
    "# load the MNIST dataset\n",
    "\n",
    "dataset = load_dataset(dataset_path)\n",
    "X = dataset['train']['X']\n",
    "Y = dataset['train']['Y']"
   ],
   "metadata": {
    "collapsed": false,
    "pycharm": {
     "name": "#%%\n"
    }
   }
  },
  {
   "cell_type": "code",
   "execution_count": 5,
   "outputs": [],
   "source": [
    "# convert X, Y to CuPy arrays\n",
    "\n",
    "X = cp.array(X)[:, :10000]\n",
    "Y = cp.array(Y)[:, :10000]"
   ],
   "metadata": {
    "collapsed": false,
    "pycharm": {
     "name": "#%%\n"
    }
   }
  },
  {
   "cell_type": "code",
   "execution_count": 12,
   "outputs": [],
   "source": [
    "# load cached weights (if available)\n",
    "\n",
    "cached_weights = load_weights(cached_weights_path)\n",
    "weights = [cached_weights['W'][W] for W in sorted(cached_weights['W'].keys())]\n",
    "biases = [cached_weights['b'][b] for b in sorted(cached_weights['b'].keys())]"
   ],
   "metadata": {
    "collapsed": false,
    "pycharm": {
     "name": "#%%\n"
    }
   }
  },
  {
   "cell_type": "code",
   "execution_count": 6,
   "outputs": [],
   "source": [
    "# set the layer sizes\n",
    "\n",
    "layer_sizes = [\n",
    "    X.shape[0],\n",
    "    32,\n",
    "    Y.shape[0]\n",
    "]"
   ],
   "metadata": {
    "collapsed": false,
    "pycharm": {
     "name": "#%%\n"
    }
   }
  },
  {
   "cell_type": "code",
   "execution_count": 7,
   "outputs": [],
   "source": [
    "# set the activations\n",
    "\n",
    "activations = [\n",
    "    'tanh',\n",
    "    'softmax',\n",
    "]\n",
    "\n",
    "assert len(layer_sizes) == (len(activations) + 1)"
   ],
   "metadata": {
    "collapsed": false,
    "pycharm": {
     "name": "#%%\n"
    }
   }
  },
  {
   "cell_type": "code",
   "execution_count": 8,
   "outputs": [],
   "source": [
    "def forward(X, weights, biases, activations):\n",
    "    A = [X]\n",
    "    for weight, bias, activation in zip(weights, biases, activations):\n",
    "        Z = cp.dot(weight, A[-1]) + bias\n",
    "        A.append(activation_function(Z, activation))\n",
    "\n",
    "    return A"
   ],
   "metadata": {
    "collapsed": false,
    "pycharm": {
     "name": "#%%\n"
    }
   }
  },
  {
   "cell_type": "code",
   "execution_count": 9,
   "outputs": [],
   "source": [
    "def backward(A, dAL, dZL, weights, activations):\n",
    "\n",
    "    samples = A[0].shape[1]\n",
    "\n",
    "    dA = [dAL]\n",
    "    dZ = [dZL]\n",
    "    dW = [cp.dot(dA[-1] * dZ[-1], A[-2].T)]\n",
    "    db = [cp.sum(dZ[-1], axis=1, keepdims=True)]\n",
    "\n",
    "    for index in range(1, len(weights)):\n",
    "        da = cp.dot(weights[-index].T, dA[-1] * dZ[-1])\n",
    "\n",
    "        dz = activation_function(A[-1-index],\n",
    "                                     activations[-1-index],\n",
    "                                     d=True)\n",
    "\n",
    "        dW.append(cp.dot(da * dz, A[-2-index].T) / samples)\n",
    "        db.append(cp.sum(dz, axis=1, keepdims=True) / samples)\n",
    "\n",
    "        dA.append(da)\n",
    "        dZ.append(dz)\n",
    "\n",
    "    dW.reverse()\n",
    "    db.reverse()\n",
    "\n",
    "    return dW, db\n"
   ],
   "metadata": {
    "collapsed": false,
    "pycharm": {
     "name": "#%%\n"
    }
   }
  },
  {
   "cell_type": "code",
   "execution_count": 10,
   "outputs": [],
   "source": [
    "def loss(predictions, actual, matrix=False):\n",
    "    assert predictions.shape == actual.shape\n",
    "    if matrix:\n",
    "        return -(actual * cp.log(predictions))\n",
    "    return -cp.sum(actual * cp.log(predictions))"
   ],
   "metadata": {
    "collapsed": false,
    "pycharm": {
     "name": "#%%\n"
    }
   }
  },
  {
   "cell_type": "code",
   "execution_count": 11,
   "outputs": [
    {
     "name": "stdout",
     "output_type": "stream",
     "text": [
      "Cost: 0.8999721014778074 @ i = 0\n",
      "Cost: 2.3024452521287255 @ i = 0\n",
      "Cost: 0.8999999999999998 @ i = 5\n",
      "Cost: 2.3025850929940463 @ i = 5\n",
      "Cost: 0.8999999999999998 @ i = 10\n",
      "Cost: 2.3025850929940463 @ i = 10\n",
      "Cost: 0.8999999999999998 @ i = 15\n",
      "Cost: 2.302585092994046 @ i = 15\n",
      "Cost: 0.8999999999999998 @ i = 20\n",
      "Cost: 2.302585092994045 @ i = 20\n",
      "Cost: 0.8999999999999998 @ i = 25\n",
      "Cost: 2.3025850929940455 @ i = 25\n",
      "Cost: 0.8999999999999998 @ i = 30\n",
      "Cost: 2.302585092994046 @ i = 30\n",
      "Cost: 0.8999999999999998 @ i = 35\n",
      "Cost: 2.302585092994046 @ i = 35\n",
      "Cost: 0.8999999999999998 @ i = 40\n",
      "Cost: 2.302585092994046 @ i = 40\n",
      "Cost: 0.9 @ i = 45\n",
      "Cost: 2.3025850929940455 @ i = 45\n",
      "Cost: 0.8999999999999997 @ i = 50\n",
      "Cost: 2.3025850929940455 @ i = 50\n",
      "Cost: 0.8999999999999998 @ i = 55\n",
      "Cost: 2.3025850929940455 @ i = 55\n",
      "Cost: 0.8999999999999998 @ i = 60\n",
      "Cost: 2.3025850929940455 @ i = 60\n",
      "Cost: 0.8999999999999998 @ i = 65\n",
      "Cost: 2.3025850929940455 @ i = 65\n",
      "Cost: 0.8999999999999998 @ i = 70\n",
      "Cost: 2.302585092994046 @ i = 70\n",
      "Cost: 0.8999999999999998 @ i = 75\n",
      "Cost: 2.3025850929940455 @ i = 75\n",
      "Cost: 0.8999999999999998 @ i = 80\n",
      "Cost: 2.302585092994045 @ i = 80\n",
      "Cost: 0.8999999999999998 @ i = 85\n",
      "Cost: 2.302585092994046 @ i = 85\n",
      "Cost: 0.8999999999999997 @ i = 90\n",
      "Cost: 2.302585092994046 @ i = 90\n",
      "Cost: 0.8999999999999998 @ i = 95\n",
      "Cost: 2.3025850929940455 @ i = 95\n"
     ]
    }
   ],
   "source": [
    "# param init according to layer sizes\n",
    "#   skip if cached ones are loaded\n",
    "\n",
    "cp.random.seed(1337)\n",
    "\n",
    "weights = [cp.random.randn(layer_sizes[index], layer_sizes[index - 1]) * .01  for index in range(1, len(layer_sizes))]\n",
    "biases = [cp.zeros((layer_sizes[index], 1)) for index in range(1, len(layer_sizes))]"
   ],
   "metadata": {
    "collapsed": false,
    "pycharm": {
     "name": "#%%\n"
    }
   }
  },
  {
   "cell_type": "code",
   "execution_count": 24,
   "outputs": [
    {
     "name": "stdout",
     "output_type": "stream",
     "text": [
      "0 [0.10943777]\n",
      "1 [0.02247189]\n",
      "2 [0.0282524]\n",
      "3 [0.01843797]\n",
      "4 [0.11308239]\n",
      "5 [0.0606785]\n",
      "6 [0.01797452]\n",
      "7 [0.57396205]\n",
      "8 [0.03843943]\n",
      "9 [0.01726308]\n",
      "The system predicted:  7\n"
     ]
    },
    {
     "data": {
      "text/plain": "<Figure size 432x288 with 1 Axes>",
      "image/png": "[encoded data removed]"
     },
     "metadata": {
      "needs_background": "light"
     },
     "output_type": "display_data"
    }
   ],
   "source": [
    "# train the model\n",
    "\n",
    "iterations = 100\n",
    "learning_rate = .0005\n",
    "stop_if_cost_goes_up = True\n",
    "\n",
    "print_cost = True\n",
    "print_at_i = 1\n",
    "\n",
    "samples = X.shape[1] # number of training samples (60000 here)\n",
    "\n",
    "costs = []\n",
    "\n",
    "for i in range(iterations):\n",
    "\n",
    "    # forward propagation\n",
    "    #   push input data through the network\n",
    "    A = forward(X, weights, biases, activations)\n",
    "\n",
    "    # Cross Entropy\n",
    "    #   cost function, to compute the error\n",
    "    cost = loss(A[-1], Y) / samples\n",
    "    if i > 0 and stop_if_cost_goes_up:\n",
    "        assert cost < costs[-1], 'Cost went up'\n",
    "    costs.append(float(cp.squeeze(cost)))\n",
    "    if print_cost and i % print_at_i == 0:\n",
    "        print(f'Cost: {cost} @ i = {i}')\n",
    "\n",
    "    # backward propagation\n",
    "    #   adjust the weights and biases to fit the data\n",
    "\n",
    "    #   compute the derivatives of the weights and biases\n",
    "    dAL = cp.ones(Y.shape)\n",
    "    dZL = (A[-1] - Y)\n",
    "    dW, db = backward(A, dAL, dZL, weights, activations)\n",
    "\n",
    "    #   update the parameters\n",
    "    weights = [weights[index] - learning_rate * dW[index] for index in range(len(weights))]\n",
    "    biases = [biases[index] - learning_rate * db[index] for index in range(len(biases))]"
   ],
   "metadata": {
    "collapsed": false,
    "pycharm": {
     "name": "#%%\n"
    }
   }
  },
  {
   "cell_type": "code",
   "execution_count": 14,
   "outputs": [
    {
     "name": "stdout",
     "output_type": "stream",
     "text": [
      "train accuracy: 82.00592257115719 %\n",
      "test accuracy: 82.00734816686932 %\n"
     ]
    }
   ],
   "source": [
    "# plot the cost over time\n",
    "plt.plot(range(len(costs)), costs)\n",
    "plt.show()"
   ],
   "metadata": {
    "collapsed": false,
    "pycharm": {
     "name": "#%%\n"
    }
   }
  },
  {
   "cell_type": "code",
   "execution_count": 14,
   "outputs": [
    {
     "data": {
      "text/plain": "[None, None, None]"
     },
     "execution_count": 14,
     "metadata": {},
     "output_type": "execute_result"
    }
   ],
   "source": [
    "# load a sample image from the test dataset\n",
    "# to evaluate the model\n",
    "\n",
    "test_image_path = '5/540.png'\n",
    "\n",
    "img = np.asarray(\n",
    "        Image.open(\n",
    "            dataset_path + \"/testing/\" + test_image_path\n",
    "        )\n",
    "    )\n",
    "plt.imshow(img)\n",
    "img = img.reshape((img.shape[0] * img.shape[1]))[:, cp.newaxis]\n",
    "\n",
    "X_n = img\n",
    "\n",
    "# regularize, then to CuPy\n",
    "X_n = cp.array(X_n) / 255\n",
    "\n",
    "# predict it\n",
    "prediction = forward(X_n, weights, biases, activations)[-1]\n",
    "[print(index, p)for index, p in enumerate(list(prediction))]\n",
    "print('The system predicted: ', list(prediction).index(max(list(prediction))))"
   ],
   "metadata": {
    "collapsed": false,
    "pycharm": {
     "name": "#%%\n"
    }
   }
  },
  {
   "cell_type": "code",
   "execution_count": 12,
   "outputs": [
    {
     "data": {
      "text/plain": "<Figure size 432x288 with 1 Axes>",
      "image/png": "[encoded data removed]"
     },
     "metadata": {
      "needs_background": "light"
     },
     "output_type": "display_data"
    }
   ],
   "source": [
    "# validate\n",
    "\n",
    "Y_prediction_train = forward(cp.array(dataset['train']['X']),\n",
    "                            weights, biases, activations)[-1]\n",
    "Y_train = cp.array(dataset['train']['Y'])\n",
    "\n",
    "\n",
    "Y_prediction_test = forward(cp.array(dataset['test']['X']),\n",
    "                            weights, biases, activations)[-1]\n",
    "Y_test = cp.array(dataset['test']['Y'])\n",
    "\n",
    "print(\"train accuracy: {} %\".format(100 - cp.mean(cp.abs(Y_prediction_train - Y_train)) * 100))\n",
    "print(\"test accuracy: {} %\".format(100 - cp.mean(cp.abs(Y_prediction_test - Y_test)) * 100))"
   ],
   "metadata": {
    "collapsed": false,
    "pycharm": {
     "name": "#%%\n"
    }
   }
  },
  {
   "cell_type": "code",
   "execution_count": 20,
   "outputs": [],
   "source": [
    "# save weights and biases\n",
    "\n",
    "#weights_to_save = list(map(cp.asnumpy, weights.copy()))\n",
    "#biases_to_save = list(map(cp.asnumpy, biases.copy()))\n",
    "\n",
    "weights_to_save = weights.copy()\n",
    "biases_to_save = biases.copy()\n",
    "\n",
    "[pd.DataFrame(df).to_csv('cache/W/w{}.csv'.format(index + 1), index=False) for index, df in enumerate(weights_to_save)]\n",
    "\n",
    "[pd.DataFrame(df).to_csv('cache/b/b{}.csv'.format(index + 1), index=False) for index, df in enumerate(biases_to_save)]\n",
    "\n"
   ],
   "metadata": {
    "collapsed": false,
    "pycharm": {
     "name": "#%%\n"
    }
   }
  }
 ],
 "metadata": {
  "kernelspec": {
   "display_name": "Python 3",
   "language": "python",
   "name": "python3"
  },
  "language_info": {
   "codemirror_mode": {
    "name": "ipython",
    "version": 2
   },
   "file_extension": ".py",
   "mimetype": "text/x-python",
   "name": "python",
   "nbconvert_exporter": "python",
   "pygments_lexer": "ipython2",
   "version": "2.7.6"
  }
 },
 "nbformat": 4,
 "nbformat_minor": 0
}