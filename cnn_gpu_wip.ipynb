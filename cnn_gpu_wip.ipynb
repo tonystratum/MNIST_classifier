{
 "cells": [
  {
   "cell_type": "code",
   "execution_count": 1,
   "metadata": {
    "collapsed": true
   },
   "outputs": [],
   "source": [
    "import numpy as np\n",
    "import cupy as cp\n",
    "#import numpy as cp\n",
    "\n",
    "import matplotlib.pyplot as plt\n",
    "from PIL import Image\n",
    "\n",
    "from load_dataset import load_dataset\n",
    "from load_cached_weights import load_weights\n",
    "\n",
    "import pandas as pd"
   ]
  },
  {
   "cell_type": "code",
   "execution_count": 2,
   "outputs": [],
   "source": [
    "# set path vars\n",
    "\n",
    "#dataset_path = \"C:\\\\Users\\\\user\\\\PycharmProjects\\\\my_cnn\\\\mnist_png\"\n",
    "dataset_path = 'mnist_png'\n",
    "cached_weights_path = 'cache'"
   ],
   "metadata": {
    "collapsed": false,
    "pycharm": {
     "name": "#%%\n"
    }
   }
  },
  {
   "cell_type": "code",
   "execution_count": 3,
   "outputs": [],
   "source": [
    "# activation functions and their derivatives\n",
    "\n",
    "# sigmoid\n",
    "def sigmoid(x):\n",
    "    return 1/(1+cp.exp(-x))\n",
    "\n",
    "# sigmoid derivative\n",
    "def sigmoid_d(x):\n",
    "    return cp.exp(-x) / cp.power(1 + cp.exp(-x), 2.)\n",
    "\n",
    "# ReLU\n",
    "def relu(x):\n",
    "    return cp.maximum(x, 0)\n",
    "\n",
    "# ReLU derivative\n",
    "def relu_d(x):\n",
    "    x[x<=0] = 0\n",
    "    x[x>0] = 1\n",
    "    return -x\n",
    "\n",
    "# tanh\n",
    "def tanh(x):\n",
    "    return cp.tanh(x)\n",
    "\n",
    "# tanh derivative\n",
    "def tanh_d(x):\n",
    "    return cp.power(cp.cosh(x), -2.)\n",
    "\n",
    "\n",
    "# function to choose between the activation functions in place\n",
    "def activation_function(Z, name, d=False):\n",
    "    if d:\n",
    "        if name == 'relu':\n",
    "            return relu_d(Z)\n",
    "        elif name == 'sigmoid':\n",
    "            return sigmoid_d(Z)\n",
    "        elif name == 'tanh':\n",
    "            return tanh_d(Z)\n",
    "    else:\n",
    "        if name == 'relu':\n",
    "            return relu(Z)\n",
    "        elif name == 'sigmoid':\n",
    "            return sigmoid(Z)\n",
    "        elif name == 'tanh':\n",
    "            return tanh(Z)\n"
   ],
   "metadata": {
    "collapsed": false,
    "pycharm": {
     "name": "#%%\n"
    }
   }
  },
  {
   "cell_type": "code",
   "execution_count": 4,
   "outputs": [],
   "source": [
    "# load the MNIST dataset\n",
    "\n",
    "dataset = load_dataset(dataset_path)\n",
    "X = dataset['train']['X']\n",
    "Y = dataset['train']['Y']"
   ],
   "metadata": {
    "collapsed": false,
    "pycharm": {
     "name": "#%%\n"
    }
   }
  },
  {
   "cell_type": "code",
   "execution_count": 5,
   "outputs": [],
   "source": [
    "# convert X, Y to CuPy arrays\n",
    "\n",
    "X = cp.array(X)\n",
    "Y = cp.array(Y)"
   ],
   "metadata": {
    "collapsed": false,
    "pycharm": {
     "name": "#%%\n"
    }
   }
  },
  {
   "cell_type": "code",
   "execution_count": 12,
   "outputs": [],
   "source": [
    "# load cached weights (if available)\n",
    "\n",
    "cached_weights = load_weights(cached_weights_path)\n",
    "W1 = cp.array(cached_weights['W']['W1'])\n",
    "W2 = cp.array(cached_weights['W']['W2'])\n",
    "W3 = cp.array(cached_weights['W']['W3'])\n",
    "\n",
    "b1 = cp.array(cached_weights['b']['B1'])\n",
    "b2 = cp.array(cached_weights['b']['B2'])\n",
    "b3 = cp.array(cached_weights['b']['B3'])\n",
    "\n",
    "#\n",
    "weights = [W1, W2, W3]\n",
    "biases = [b1, b2, b3]"
   ],
   "metadata": {
    "collapsed": false,
    "pycharm": {
     "name": "#%%\n"
    }
   }
  },
  {
   "cell_type": "code",
   "execution_count": 6,
   "outputs": [],
   "source": [
    "# set the layer sizes\n",
    "\n",
    "layer_sizes = [\n",
    "    X.shape[0],\n",
    "    500,\n",
    "    Y.shape[0]\n",
    "]"
   ],
   "metadata": {
    "collapsed": false,
    "pycharm": {
     "name": "#%%\n"
    }
   }
  },
  {
   "cell_type": "code",
   "execution_count": 7,
   "outputs": [],
   "source": [
    "# set the activations\n",
    "\n",
    "activations = [\n",
    "    'tanh',\n",
    "    'sigmoid',\n",
    "]\n",
    "\n",
    "assert(len(layer_sizes) == (len(activations) + 1))"
   ],
   "metadata": {
    "collapsed": false,
    "pycharm": {
     "name": "#%%\n"
    }
   }
  },
  {
   "cell_type": "code",
   "execution_count": 15,
   "outputs": [],
   "source": [
    "# param init according to layer sizes\n",
    "# !!! SKIP !!!\n",
    "# IF YOU HAVE LOADED THE CACHED ONES\n",
    "\n",
    "weights = [cp.random.randn(layer_sizes[index], layer_sizes[index - 1]) for index in range(1, len(layer_sizes))]\n",
    "biases = [cp.zeros((layer_sizes[index], 1)) for index in range(1, len(layer_sizes))]"
   ],
   "metadata": {
    "collapsed": false,
    "pycharm": {
     "name": "#%%\n"
    }
   }
  },
  {
   "cell_type": "code",
   "execution_count": 9,
   "outputs": [],
   "source": [
    "def forward(X, weights, biases, activations):\n",
    "    A = [X]\n",
    "    for weight, bias, activation in zip(weights, biases, activations):\n",
    "        Z = cp.dot(weight, A[-1]) + bias\n",
    "        A.append(activation_function(Z, activation))\n",
    "\n",
    "    return A"
   ],
   "metadata": {
    "collapsed": false,
    "pycharm": {
     "name": "#%%\n"
    }
   }
  },
  {
   "cell_type": "code",
   "execution_count": 10,
   "outputs": [],
   "source": [
    "def backward(A, dAL, weights, activations):\n",
    "    dA = [dAL]\n",
    "    dZ = [activation_function(A[-1], activations[-1], d=True)]\n",
    "    dW = [cp.dot(dA[-1] * dZ[-1], A[-2].T)]\n",
    "    db = [cp.sum(dZ[-1], axis=1, keepdims=True)]\n",
    "\n",
    "    for index in range(1, len(weights)):\n",
    "        da = cp.dot(weights[-index].T, dA[-1] * dZ[-1])\n",
    "\n",
    "        dz = activation_function(A[-1-index],\n",
    "                                     activations[-1-index],\n",
    "                                     d=True)\n",
    "\n",
    "        dW.append(cp.dot(da * dz, A[-2-index].T))\n",
    "        db.append(cp.sum(dz, axis=1, keepdims=True))\n",
    "\n",
    "        dA.append(da)\n",
    "        dZ.append(dz)\n",
    "\n",
    "    dW.reverse()\n",
    "    db.reverse()\n",
    "\n",
    "    return dW, db"
   ],
   "metadata": {
    "collapsed": false,
    "pycharm": {
     "name": "#%%\n"
    }
   }
  },
  {
   "cell_type": "code",
   "execution_count": 18,
   "outputs": [
    {
     "name": "stdout",
     "output_type": "stream",
     "text": [
      "Cost: 0.8381786427771443 @ i = 0\n",
      "Cost: 0.7693721014123623 @ i = 10\n",
      "Cost: 0.7283076000131763 @ i = 20\n",
      "Cost: 0.7004358328607393 @ i = 30\n",
      "Cost: 0.6825419325456663 @ i = 40\n",
      "Cost: 0.6738520561244881 @ i = 50\n",
      "Cost: 0.6700656356492796 @ i = 60\n",
      "Cost: 0.6736677577301777 @ i = 70\n"
     ]
    }
   ],
   "source": [
    "# train the model\n",
    "\n",
    "iterations = 75\n",
    "print_cost = True\n",
    "print_at_i = 10\n",
    "\n",
    "samples = X.shape[1] # number of training samples (60000 here)\n",
    "\n",
    "learning_rate = .000005\n",
    "\n",
    "costs = []\n",
    "\n",
    "for i in range(iterations):\n",
    "\n",
    "    # forward propagation\n",
    "    #   push input data through the network\n",
    "    A = forward(X, weights, biases, activations)\n",
    "\n",
    "    # MSE\n",
    "    #   cost function, to compute the error\n",
    "    # TODO: try different cost functions or different metrics\n",
    "    cost = cp.sum(cp.power(Y - A[-1], 2.)) / samples\n",
    "    #cost = -(1.0/samples) * cp.sum(Y*cp.log(A[-1]) + (1-Y)*cp.log(1-A[-1]))\n",
    "    costs.append(float(cp.squeeze(cost)))\n",
    "\n",
    "    if print_cost and i % print_at_i == 0:\n",
    "        print('Cost: {} @ i = {}'.format(cost, i))\n",
    "\n",
    "\n",
    "    # backward propagation\n",
    "    #   adjust the weights and biases to fit the data\n",
    "\n",
    "    # compute the derivatives of the weights and biases\n",
    "    dAL = 2 * (Y - A[-1])\n",
    "    #dAL = -(A[-1]-Y)/(A[-1]*(1-A[-1]))\n",
    "    dW, db = backward(A, dAL, weights,activations)\n",
    "\n",
    "    # update parameters\n",
    "    weights = [weights[index] + learning_rate * dW[index] for index in range(len(weights))]\n",
    "    biases = [biases[index] + learning_rate * db[index] for index in range(len(biases))]"
   ],
   "metadata": {
    "collapsed": false,
    "pycharm": {
     "name": "#%%\n"
    }
   }
  },
  {
   "cell_type": "code",
   "execution_count": 20,
   "outputs": [
    {
     "name": "stdout",
     "output_type": "stream",
     "text": [
      "0 [6.65084971e-07]\n",
      "1 [1.26359854e-06]\n",
      "2 [0.00012566]\n",
      "3 [1.78249374e-09]\n",
      "4 [0.99988428]\n",
      "5 [4.14991036e-13]\n",
      "6 [0.04672058]\n",
      "7 [1.82607714e-05]\n",
      "8 [9.02769869e-06]\n",
      "9 [1.28937826e-08]\n",
      "The system predicted:  4\n"
     ]
    },
    {
     "data": {
      "text/plain": "<Figure size 432x288 with 1 Axes>",
      "image/png": "[encoded data removed]"
     },
     "metadata": {
      "needs_background": "light"
     },
     "output_type": "display_data"
    }
   ],
   "source": [
    "# load a sample image from the test dataset\n",
    "# to evaluate the model\n",
    "\n",
    "img = np.asarray(\n",
    "        Image.open(\n",
    "            dataset_path + \"/testing/4/210.png\"\n",
    "        )\n",
    "    )\n",
    "plt.imshow(img)\n",
    "img = img.reshape((img.shape[0] * img.shape[1]))[:, cp.newaxis]\n",
    "\n",
    "X_n = img\n",
    "\n",
    "# to CuPy\n",
    "X_n = cp.array(X_n) / 255\n",
    "\n",
    "# predict it\n",
    "prediction = forward(X_n, weights, biases, activations)[-1]\n",
    "[print(index, p)for index, p in enumerate(list(prediction))]\n",
    "print('The system predicted: ', list(prediction).index(max(list(prediction))))"
   ],
   "metadata": {
    "collapsed": false,
    "pycharm": {
     "name": "#%%\n"
    }
   }
  },
  {
   "cell_type": "code",
   "execution_count": 19,
   "outputs": [
    {
     "name": "stdout",
     "output_type": "stream",
     "text": [
      "train accuracy: 91.84611993565935 %\n",
      "test accuracy: 92.0105621594752 %\n"
     ]
    }
   ],
   "source": [
    "# validate\n",
    "\n",
    "Y_prediction_train = forward(cp.array(dataset['train']['X']),\n",
    "                            weights, biases, activations)[-1]\n",
    "Y_train = cp.array(dataset['train']['Y'])\n",
    "\n",
    "\n",
    "Y_prediction_test = forward(cp.array(dataset['test']['X']),\n",
    "                            weights, biases, activations)[-1]\n",
    "Y_test = cp.array(dataset['test']['Y'])\n",
    "\n",
    "print(\"train accuracy: {} %\".format(100 - np.mean(np.abs(Y_prediction_train - Y_train)) * 100))\n",
    "print(\"test accuracy: {} %\".format(100 - np.mean(np.abs(Y_prediction_test - Y_test)) * 100))"
   ],
   "metadata": {
    "collapsed": false,
    "pycharm": {
     "name": "#%%\n"
    }
   }
  },
  {
   "cell_type": "code",
   "execution_count": 14,
   "outputs": [
    {
     "data": {
      "text/plain": "[None, None, None]"
     },
     "execution_count": 14,
     "metadata": {},
     "output_type": "execute_result"
    }
   ],
   "source": [
    "# save weights and biases\n",
    "\n",
    "weights_to_save = list(map(cp.asnumpy, weights.copy()))\n",
    "biases_to_save = list(map(cp.asnumpy, biases.copy()))\n",
    "\n",
    "[pd.DataFrame(df).to_csv('cache/W/w{}.csv'.format(index + 1), index=False) for index, df in enumerate(weights_to_save)]\n",
    "\n",
    "[pd.DataFrame(df).to_csv('cache/b/b{}.csv'.format(index + 1), index=False) for index, df in enumerate(biases_to_save)]"
   ],
   "metadata": {
    "collapsed": false,
    "pycharm": {
     "name": "#%%\n"
    }
   }
  },
  {
   "cell_type": "code",
   "execution_count": 17,
   "outputs": [
    {
     "data": {
      "text/plain": "<Figure size 432x288 with 1 Axes>",
      "image/png": "[encoded data removed]"
     },
     "metadata": {
      "needs_background": "light"
     },
     "output_type": "display_data"
    }
   ],
   "source": [
    "# plot\n",
    "plt.plot(range(len(costs)), costs)\n",
    "plt.show()\n"
   ],
   "metadata": {
    "collapsed": false,
    "pycharm": {
     "name": "#%%\n"
    }
   }
  }
 ],
 "metadata": {
  "kernelspec": {
   "display_name": "Python 3",
   "language": "python",
   "name": "python3"
  },
  "language_info": {
   "codemirror_mode": {
    "name": "ipython",
    "version": 2
   },
   "file_extension": ".py",
   "mimetype": "text/x-python",
   "name": "python",
   "nbconvert_exporter": "python",
   "pygments_lexer": "ipython2",
   "version": "2.7.6"
  }
 },
 "nbformat": 4,
 "nbformat_minor": 0
}