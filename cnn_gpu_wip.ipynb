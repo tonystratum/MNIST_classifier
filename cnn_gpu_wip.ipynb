{
 "cells": [
  {
   "cell_type": "code",
   "execution_count": 15,
   "metadata": {
    "collapsed": true
   },
   "outputs": [],
   "source": [
    "import numpy as np\n",
    "import cupy as cp\n",
    "\n",
    "import matplotlib.pyplot as plt\n",
    "from PIL import Image\n",
    "\n",
    "from load_dataset import load_dataset\n",
    "\n",
    "import pandas as pd"
   ]
  },
  {
   "cell_type": "code",
   "execution_count": 2,
   "outputs": [],
   "source": [
    "# set path vars\n",
    "\n",
    "#dataset_path = \"C:\\\\Users\\\\user\\\\PycharmProjects\\\\my_cnn\\\\mnist_png\"\n",
    "dataset_path = 'mnist_png'"
   ],
   "metadata": {
    "collapsed": false,
    "pycharm": {
     "name": "#%%\n"
    }
   }
  },
  {
   "cell_type": "code",
   "execution_count": 3,
   "outputs": [],
   "source": [
    "# activation functions and their derivatives\n",
    "\n",
    "# sigmoid\n",
    "def sigmoid(x):\n",
    "    return 1/(1+cp.exp(-x))\n",
    "\n",
    "#sigmoid derivative\n",
    "def sigmoid_d(x):\n",
    "    return cp.exp(-x) / cp.power(1 + cp.exp(-x), 2.)"
   ],
   "metadata": {
    "collapsed": false,
    "pycharm": {
     "name": "#%%\n"
    }
   }
  },
  {
   "cell_type": "code",
   "execution_count": 4,
   "outputs": [],
   "source": [
    "# load the MNIST dataset\n",
    "\n",
    "dataset = load_dataset(dataset_path)\n",
    "X = dataset['train']['X']\n",
    "Y = dataset['train']['Y']"
   ],
   "metadata": {
    "collapsed": false,
    "pycharm": {
     "name": "#%%\n"
    }
   }
  },
  {
   "cell_type": "code",
   "execution_count": 5,
   "outputs": [],
   "source": [
    "# convert X, Y to CuPy arrays\n",
    "\n",
    "X = cp.array(X)\n",
    "Y = cp.array(Y)"
   ],
   "metadata": {
    "collapsed": false,
    "pycharm": {
     "name": "#%%\n"
    }
   }
  },
  {
   "cell_type": "code",
   "execution_count": 6,
   "outputs": [],
   "source": [
    "# set the layer sizes\n",
    "\n",
    "layer_sizes = [\n",
    "    X.shape[0],\n",
    "    500,\n",
    "    100,\n",
    "    10\n",
    "]"
   ],
   "metadata": {
    "collapsed": false,
    "pycharm": {
     "name": "#%%\n"
    }
   }
  },
  {
   "cell_type": "code",
   "execution_count": 7,
   "outputs": [],
   "source": [
    "# initialize parameters\n",
    "\n",
    "W1 = cp.random.randn(layer_sizes[1], layer_sizes[0])\n",
    "b1 = cp.zeros((layer_sizes[1], 1))\n",
    "\n",
    "W2 = cp.random.randn(layer_sizes[2], layer_sizes[1])\n",
    "b2 = cp.zeros((layer_sizes[2], 1))\n",
    "\n",
    "W3 = cp.random.randn(layer_sizes[3], layer_sizes[2])\n",
    "b3 = cp.zeros((layer_sizes[3], 1))"
   ],
   "metadata": {
    "collapsed": false,
    "pycharm": {
     "name": "#%%\n"
    }
   }
  },
  {
   "cell_type": "code",
   "execution_count": null,
   "outputs": [
    {
     "name": "stdout",
     "output_type": "stream",
     "text": [
      "Cost: 0.5114945622011766 @ i = 0\n",
      "Cost: 0.5109445389058408 @ i = 10\n",
      "Cost: 0.5103993236194057 @ i = 20\n",
      "Cost: 0.5098588993617538 @ i = 30\n",
      "Cost: 0.509323244817625 @ i = 40\n",
      "Cost: 0.508792334051663 @ i = 50\n",
      "Cost: 0.5082661364152332 @ i = 60\n",
      "Cost: 0.507744616586991 @ i = 70\n",
      "Cost: 0.5072277346818372 @ i = 80\n",
      "Cost: 0.5067154463690948 @ i = 90\n",
      "Cost: 0.5062077029568736 @ i = 100\n",
      "Cost: 0.5057044514214379 @ i = 110\n",
      "Cost: 0.505205634383941 @ i = 120\n",
      "Cost: 0.5047111900585927 @ i = 130\n",
      "Cost: 0.5042210522132072 @ i = 140\n",
      "Cost: 0.5037351501927694 @ i = 150\n",
      "Cost: 0.503253409057754 @ i = 160\n",
      "Cost: 0.5027757498813309 @ i = 170\n",
      "Cost: 0.502302090234704 @ i = 180\n",
      "Cost: 0.5018323448703836 @ i = 190\n",
      "Cost: 0.5013664265925508 @ i = 200\n",
      "Cost: 0.5009042472849206 @ i = 210\n",
      "Cost: 0.5004457190517074 @ i = 220\n",
      "Cost: 0.49999075541704496 @ i = 230\n",
      "Cost: 0.4995392725219327 @ i = 240\n",
      "Cost: 0.4990911902542998 @ i = 250\n",
      "Cost: 0.4986464332463232 @ i = 260\n",
      "Cost: 0.49820493167409746 @ i = 270\n",
      "Cost: 0.49776662180025777 @ i = 280\n",
      "Cost: 0.4973314462136367 @ i = 290\n",
      "Cost: 0.4968993537447529 @ i = 300\n",
      "Cost: 0.49647029907212487 @ i = 310\n",
      "Cost: 0.4960442420763918 @ i = 320\n",
      "Cost: 0.4956211470347704 @ i = 330\n",
      "Cost: 0.49520098176263433 @ i = 340\n",
      "Cost: 0.4947837167928106 @ i = 350\n",
      "Cost: 0.4943693246406833 @ i = 360\n",
      "Cost: 0.4939577791521699 @ i = 370\n",
      "Cost: 0.49354905489454653 @ i = 380\n",
      "Cost: 0.493143126541368 @ i = 390\n",
      "Cost: 0.4927399682216689 @ i = 400\n",
      "Cost: 0.49233955283729347 @ i = 410\n",
      "Cost: 0.49194185138441887 @ i = 420\n",
      "Cost: 0.49154683233481306 @ i = 430\n",
      "Cost: 0.4911544611355792 @ i = 440\n",
      "Cost: 0.49076469987563737 @ i = 450\n",
      "Cost: 0.4903775071483655 @ i = 460\n",
      "Cost: 0.48999283811809535 @ i = 470\n",
      "Cost: 0.48961064477776406 @ i = 480\n",
      "Cost: 0.48923087636866436 @ i = 490\n",
      "Cost: 0.48885347992221867 @ i = 500\n",
      "Cost: 0.4884784008783732 @ i = 510\n",
      "Cost: 0.4881055837352096 @ i = 520\n",
      "Cost: 0.48773497268898686 @ i = 530\n",
      "Cost: 0.4873665122321638 @ i = 540\n",
      "Cost: 0.4870001476880088 @ i = 550\n",
      "Cost: 0.48663582567299635 @ i = 560\n",
      "Cost: 0.48627349449092144 @ i = 570\n",
      "Cost: 0.4859131044738994 @ i = 580\n",
      "Cost: 0.4855546082935012 @ i = 590\n",
      "Cost: 0.4851979612688328 @ i = 600\n",
      "Cost: 0.48484312169667576 @ i = 610\n",
      "Cost: 0.48449005122206196 @ i = 620\n",
      "Cost: 0.48413871525701224 @ i = 630\n",
      "Cost: 0.483789083442599 @ i = 640\n",
      "Cost: 0.48344113013738876 @ i = 650\n",
      "Cost: 0.4830948349060354 @ i = 660\n",
      "Cost: 0.4827501829770933 @ i = 670\n",
      "Cost: 0.4824071656397015 @ i = 680\n",
      "Cost: 0.48206578055398236 @ i = 690\n",
      "Cost: 0.48172603195776836 @ i = 700\n",
      "Cost: 0.48138793075970676 @ i = 710\n",
      "Cost: 0.48105149451313495 @ i = 720\n",
      "Cost: 0.4807167472649424 @ i = 730\n",
      "Cost: 0.480383719269804 @ i = 740\n",
      "Cost: 0.4800524465558095 @ i = 750\n",
      "Cost: 0.4797229703268069 @ i = 760\n",
      "Cost: 0.47939533619302405 @ i = 770\n",
      "Cost: 0.4790695932353898 @ i = 780\n",
      "Cost: 0.47874579292786995 @ i = 790\n",
      "Cost: 0.47842398796122687 @ i = 800\n",
      "Cost: 0.47810423102559846 @ i = 810\n",
      "Cost: 0.47778657361439886 @ i = 820\n",
      "Cost: 0.4774710649070359 @ i = 830\n",
      "Cost: 0.4771577507742795 @ i = 840\n",
      "Cost: 0.4768466729312376 @ i = 850\n",
      "Cost: 0.4765378682430611 @ i = 860\n",
      "Cost: 0.47623136817174344 @ i = 870\n",
      "Cost: 0.4759271983415548 @ i = 880\n",
      "Cost: 0.4756253781969471 @ i = 890\n",
      "Cost: 0.47532592072959534 @ i = 900\n"
     ]
    }
   ],
   "source": [
    "# train the model\n",
    "\n",
    "iterations = 2500\n",
    "print_cost = True\n",
    "\n",
    "samples = X.shape[1] # number of training samples (60000 here)\n",
    "\n",
    "learning_rate = 0.0000001\n",
    "\n",
    "costs = []\n",
    "\n",
    "for i in range(iterations):\n",
    "\n",
    "    # forward propagation\n",
    "    #   push input data through the network\n",
    "    Z1 = cp.dot(W1, X) + b1\n",
    "    A1 = sigmoid(Z1)\n",
    "\n",
    "    Z2 = cp.dot(W2, A1) + b2\n",
    "    A2 = sigmoid(Z2)\n",
    "\n",
    "    Z3 = cp.dot(W3, A2) + b3\n",
    "    A3 = sigmoid(Z3)\n",
    "\n",
    "    # MSE\n",
    "    #   cost function, to compute the error\n",
    "    cost = cp.sum(cp.power(Y - A3, 2.)) / samples\n",
    "    # cost = -1 / samples * sum([Y[0][i] * cp.log(A3[0][i]) + (1 - Y[0][i]) * cp.log(1 - AL[0][i]) for i in range(AL.shape[1])])\n",
    "    costs.append(float(cp.squeeze(cost)))\n",
    "\n",
    "    if print_cost and i % 10 == 0:\n",
    "        print('Cost: {} @ i = {}'.format(cost, i))\n",
    "\n",
    "\n",
    "    # backward propagation\n",
    "    #   adjust the weights and biases to fit the data\n",
    "\n",
    "    # compute the derivatives of the weights and biases\n",
    "    # dW3\n",
    "    dA3 = 2 * (Y - A3)\n",
    "    dZ3 = sigmoid_d(A3)\n",
    "    dW3 = cp.dot(dA3 * dZ3, A2.T)\n",
    "    db3 = cp.sum(dZ3, axis=1, keepdims=True)\n",
    "\n",
    "    # dW2\n",
    "    dA2 = cp.dot(W3.T, dA3 * dZ3)\n",
    "    dZ2 = sigmoid_d(A2)\n",
    "    dW2 = cp.dot(dA2 * dZ2, A1.T)\n",
    "    db2 = cp.sum(dZ2, axis=1, keepdims=True)\n",
    "\n",
    "    # dW1\n",
    "    dA1 = cp.dot(W2.T, dA2 * dZ2)\n",
    "    dZ1 = sigmoid_d(A1)\n",
    "    dW1 = cp.dot(dA1 * dZ1, X.T)\n",
    "    db1 = cp.sum(dZ1, axis=1, keepdims=True)\n",
    "\n",
    "\n",
    "    # update parameters\n",
    "    W1 += learning_rate * dW1\n",
    "    W2 += learning_rate * dW2\n",
    "    W3 += learning_rate * dW3\n",
    "\n",
    "    b1 += learning_rate * db1\n",
    "    b2 += learning_rate * db2\n",
    "    b3 += learning_rate * db3"
   ],
   "metadata": {
    "collapsed": false,
    "pycharm": {
     "name": "#%%\n",
     "is_executing": true
    }
   }
  },
  {
   "cell_type": "code",
   "execution_count": 8,
   "outputs": [],
   "source": [
    "# predict\n",
    "\n",
    "def predict(X):\n",
    "    Z1 = cp.dot(W1, X) + b1\n",
    "    A1 = sigmoid(Z1)\n",
    "\n",
    "    Z2 = cp.dot(W2, A1) + b2\n",
    "    A2 = sigmoid(Z2)\n",
    "\n",
    "    Z3 = cp.dot(W3, A2) + b3\n",
    "    A3 = sigmoid(Z3)\n",
    "\n",
    "    return A3"
   ],
   "metadata": {
    "collapsed": false,
    "pycharm": {
     "name": "#%%\n"
    }
   }
  },
  {
   "cell_type": "code",
   "execution_count": 14,
   "outputs": [
    {
     "name": "stdout",
     "output_type": "stream",
     "text": [
      "[[9.91651860e-03]\n",
      " [9.25337297e-05]\n",
      " [8.12902576e-01]\n",
      " [2.44343544e-04]\n",
      " [7.80425286e-03]\n",
      " [2.26223472e-04]\n",
      " [8.59136647e-02]\n",
      " [8.64404092e-06]\n",
      " [7.93602591e-03]\n",
      " [9.03318925e-02]]\n"
     ]
    },
    {
     "data": {
      "text/plain": "<Figure size 432x288 with 1 Axes>",
      "image/png": "[encoded data removed]"
     },
     "metadata": {
      "needs_background": "light"
     },
     "output_type": "display_data"
    }
   ],
   "source": [
    "# load a sample image from the test dataset\n",
    "# to evaluate the model\n",
    "\n",
    "img = np.asarray(\n",
    "        Image.open(\n",
    "            dataset_path + \"/testing/6/100.png\"\n",
    "        )\n",
    "    )\n",
    "plt.imshow(img)\n",
    "img = img.reshape((img.shape[0] * img.shape[1]))[:, cp.newaxis]\n",
    "\n",
    "X_n = img\n",
    "\n",
    "# to CuPy\n",
    "X_n = cp.array(X_n)\n",
    "\n",
    "# predict it\n",
    "prediction = predict(X_n)\n",
    "print(prediction)"
   ],
   "metadata": {
    "collapsed": false,
    "pycharm": {
     "name": "#%%\n"
    }
   }
  },
  {
   "cell_type": "code",
   "execution_count": 11,
   "outputs": [
    {
     "name": "stdout",
     "output_type": "stream",
     "text": [
      "train accuracy: 91.03072180350043 %\n",
      "test accuracy: 91.17528883727495 %\n"
     ]
    }
   ],
   "source": [
    "# validate\n",
    "\n",
    "Y_prediction_train = predict(cp.array(dataset['train']['X']))\n",
    "Y_train = cp.array(dataset['train']['Y'])\n",
    "\n",
    "Y_prediction_test = predict(cp.array(dataset['test']['X']))\n",
    "Y_test = cp.array(dataset['test']['Y'])\n",
    "\n",
    "print(\"train accuracy: {} %\".format(100 - np.mean(np.abs(Y_prediction_train - Y_train)) * 100))\n",
    "print(\"test accuracy: {} %\".format(100 - np.mean(np.abs(Y_prediction_test - Y_test)) * 100))"
   ],
   "metadata": {
    "collapsed": false,
    "pycharm": {
     "name": "#%%\n"
    }
   }
  },
  {
   "cell_type": "code",
   "execution_count": 19,
   "outputs": [
    {
     "data": {
      "text/plain": "[None, None, None]"
     },
     "execution_count": 19,
     "metadata": {},
     "output_type": "execute_result"
    }
   ],
   "source": [
    "# save weights and biases\n",
    "\n",
    "W1_df = pd.DataFrame(cp.asnumpy(W1))\n",
    "W2_df = pd.DataFrame(cp.asnumpy(W2))\n",
    "W3_df = pd.DataFrame(cp.asnumpy(W3))\n",
    "\n",
    "b1_df = pd.DataFrame(cp.asnumpy(b1))\n",
    "b2_df = pd.DataFrame(cp.asnumpy(b2))\n",
    "b3_df = pd.DataFrame(cp.asnumpy(b3))\n",
    "\n",
    "[df.to_csv('cache/W/' + name) for df, name in zip(\n",
    "    (W1_df, W2_df, W3_df),\n",
    "    ('w1.csv', 'w2.csv', 'w3.csv'))]\n",
    "\n",
    "[df.to_csv('cache/b/' + name) for df, name in zip(\n",
    "    (b1_df, b2_df, b3_df),\n",
    "    ('b1.csv', 'b2.csv', 'b3.csv'))]"
   ],
   "metadata": {
    "collapsed": false,
    "pycharm": {
     "name": "#%%\n"
    }
   }
  }
 ],
 "metadata": {
  "kernelspec": {
   "display_name": "Python 3",
   "language": "python",
   "name": "python3"
  },
  "language_info": {
   "codemirror_mode": {
    "name": "ipython",
    "version": 2
   },
   "file_extension": ".py",
   "mimetype": "text/x-python",
   "name": "python",
   "nbconvert_exporter": "python",
   "pygments_lexer": "ipython2",
   "version": "2.7.6"
  }
 },
 "nbformat": 4,
 "nbformat_minor": 0
}