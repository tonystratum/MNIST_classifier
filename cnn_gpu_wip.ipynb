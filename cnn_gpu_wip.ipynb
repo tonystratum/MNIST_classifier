{
 "cells": [
  {
   "cell_type": "code",
   "execution_count": 1,
   "metadata": {
    "collapsed": true
   },
   "outputs": [],
   "source": [
    "#import numpy as cp\n",
    "import cupy as cp\n",
    "\n",
    "import matplotlib.pyplot as plt\n",
    "from PIL import Image\n",
    "\n",
    "from load_dataset import load_dataset"
   ]
  },
  {
   "cell_type": "code",
   "execution_count": 2,
   "outputs": [],
   "source": [
    "# set path vars\n",
    "\n",
    "#dataset_path = \"C:\\\\Users\\\\user\\\\PycharmProjects\\\\my_cnn\\\\mnist_png\"\n",
    "dataset_path = 'mnist_png'"
   ],
   "metadata": {
    "collapsed": false,
    "pycharm": {
     "name": "#%%\n"
    }
   }
  },
  {
   "cell_type": "code",
   "execution_count": 3,
   "outputs": [],
   "source": [
    "# activation functions and their derivatives\n",
    "\n",
    "# sigmoid\n",
    "def sigmoid(x):\n",
    "    return 1/(1+cp.exp(-x))\n",
    "\n",
    "#sigmoid derivative\n",
    "def sigmoid_d(x):\n",
    "    return cp.exp(-x) / cp.power(1 + cp.exp(-x), 2.)"
   ],
   "metadata": {
    "collapsed": false,
    "pycharm": {
     "name": "#%%\n"
    }
   }
  },
  {
   "cell_type": "code",
   "execution_count": 4,
   "outputs": [],
   "source": [
    "# load the MNIST dataset\n",
    "\n",
    "dataset = load_dataset(dataset_path)\n",
    "X = dataset['train']['X']\n",
    "Y = dataset['train']['Y']"
   ],
   "metadata": {
    "collapsed": false,
    "pycharm": {
     "name": "#%%\n"
    }
   }
  },
  {
   "cell_type": "code",
   "execution_count": 5,
   "outputs": [],
   "source": [
    "# convert X, Y to CuPy arrays\n",
    "\n",
    "X = cp.array(X)\n",
    "Y = cp.array(Y)"
   ],
   "metadata": {
    "collapsed": false,
    "pycharm": {
     "name": "#%%\n"
    }
   }
  },
  {
   "cell_type": "code",
   "execution_count": 6,
   "outputs": [],
   "source": [
    "# set the layer sizes\n",
    "\n",
    "layer_sizes = [\n",
    "    X.shape[0],\n",
    "    500,\n",
    "    100,\n",
    "    10\n",
    "]"
   ],
   "metadata": {
    "collapsed": false,
    "pycharm": {
     "name": "#%%\n"
    }
   }
  },
  {
   "cell_type": "code",
   "execution_count": 7,
   "outputs": [],
   "source": [
    "# initialize parameters\n",
    "\n",
    "W1 = cp.random.randn(layer_sizes[1], layer_sizes[0])\n",
    "b1 = cp.zeros((layer_sizes[1], 1))\n",
    "\n",
    "W2 = cp.random.randn(layer_sizes[2], layer_sizes[1])\n",
    "b2 = cp.zeros((layer_sizes[2], 1))\n",
    "\n",
    "W3 = cp.random.randn(layer_sizes[3], layer_sizes[2])\n",
    "b3 = cp.zeros((layer_sizes[3], 1))"
   ],
   "metadata": {
    "collapsed": false,
    "pycharm": {
     "name": "#%%\n"
    }
   }
  },
  {
   "cell_type": "code",
   "execution_count": null,
   "outputs": [
    {
     "name": "stdout",
     "output_type": "stream",
     "text": [
      "Cost: 3.0085962100378394 @ i = 0\n",
      "Cost: 0.9846798771782652 @ i = 5\n",
      "Cost: 0.7070645663134347 @ i = 10\n",
      "Cost: 0.7782126379605219 @ i = 15\n",
      "Cost: 0.6734366079910048 @ i = 20\n",
      "Cost: 0.6015945700643497 @ i = 25\n",
      "Cost: 0.5755249171845113 @ i = 30\n",
      "Cost: 0.511271657729383 @ i = 35\n",
      "Cost: 0.5373388850820119 @ i = 40\n",
      "Cost: 0.5281516456534002 @ i = 45\n",
      "Cost: 0.5014549016886937 @ i = 50\n",
      "Cost: 0.48873394724529656 @ i = 55\n",
      "Cost: 0.6189361264370218 @ i = 60\n",
      "Cost: 0.5821247635171843 @ i = 65\n",
      "Cost: 0.5180312984468418 @ i = 70\n",
      "Cost: 0.5414694576566111 @ i = 75\n",
      "Cost: 0.5314608861608197 @ i = 80\n",
      "Cost: 0.5200276934406652 @ i = 85\n",
      "Cost: 0.6202068967779102 @ i = 90\n",
      "Cost: 0.5902549914670238 @ i = 95\n",
      "Cost: 0.5181080825999074 @ i = 100\n",
      "Cost: 0.5011296699554622 @ i = 105\n",
      "Cost: 0.46904707205202273 @ i = 110\n",
      "Cost: 0.4810016372588687 @ i = 115\n",
      "Cost: 0.6515923408917151 @ i = 120\n",
      "Cost: 0.5367569479533297 @ i = 125\n",
      "Cost: 0.5948223012101308 @ i = 130\n",
      "Cost: 0.5786514801535327 @ i = 135\n",
      "Cost: 0.5400671800563374 @ i = 140\n",
      "Cost: 0.6833613527277118 @ i = 145\n",
      "Cost: 0.5451186800155682 @ i = 150\n",
      "Cost: 0.5827134407250375 @ i = 155\n",
      "Cost: 0.5384971514318735 @ i = 160\n",
      "Cost: 0.5656827251499725 @ i = 165\n",
      "Cost: 0.522639375968502 @ i = 170\n",
      "Cost: 0.5599557326748646 @ i = 175\n",
      "Cost: 0.5684389757358627 @ i = 180\n",
      "Cost: 0.6335757142977927 @ i = 185\n",
      "Cost: 0.6721874842068668 @ i = 190\n",
      "Cost: 0.5649916032765856 @ i = 195\n",
      "Cost: 0.5570131249037736 @ i = 200\n",
      "Cost: 0.5995993499484055 @ i = 205\n",
      "Cost: 0.5581937172854486 @ i = 210\n",
      "Cost: 0.5412979750488455 @ i = 215\n",
      "Cost: 0.5201943524113919 @ i = 220\n",
      "Cost: 0.556039165366828 @ i = 225\n",
      "Cost: 0.5233505517339504 @ i = 230\n",
      "Cost: 0.5371612612869353 @ i = 235\n",
      "Cost: 0.5022976353789033 @ i = 240\n",
      "Cost: 0.5097163912137446 @ i = 245\n",
      "Cost: 0.5085285441448624 @ i = 250\n",
      "Cost: 0.4979715276407911 @ i = 255\n",
      "Cost: 0.6346171613953253 @ i = 260\n",
      "Cost: 0.5160195465965821 @ i = 265\n",
      "Cost: 0.6038660295841972 @ i = 270\n",
      "Cost: 0.5465315480204147 @ i = 275\n",
      "Cost: 0.6295937045681749 @ i = 280\n",
      "Cost: 0.709767773436307 @ i = 285\n",
      "Cost: 0.6660664571518692 @ i = 290\n"
     ]
    }
   ],
   "source": [
    "# train the model\n",
    "\n",
    "iterations = 2500\n",
    "print_cost = True\n",
    "\n",
    "samples = X.shape[1] # number of training samples (60000 here)\n",
    "\n",
    "learning_rate = 0.00001\n",
    "\n",
    "cost = .0\n",
    "\n",
    "for i in range(iterations):\n",
    "\n",
    "    # forward propagation\n",
    "    #   push icput data through the network\n",
    "    Z1 = cp.dot(W1, X) + b1\n",
    "    A1 = sigmoid(Z1)\n",
    "\n",
    "    Z2 = cp.dot(W2, A1) + b2\n",
    "    A2 = sigmoid(Z2)\n",
    "\n",
    "    Z3 = cp.dot(W3, A2) + b3\n",
    "    A3 = sigmoid(Z3)\n",
    "\n",
    "    # MSE\n",
    "    #   cost function, to compute the error\n",
    "    cost = cp.sum(cp.power(Y - A3, 2.)) / samples\n",
    "    # cost = -1 / samples * sum([Y[0][i] * cp.log(A3[0][i]) + (1 - Y[0][i]) * cp.log(1 - AL[0][i]) for i in range(AL.shape[1])])\n",
    "\n",
    "    if print_cost and i % 5 == 0:\n",
    "        print('Cost: {} @ i = {}'.format(cost, i))\n",
    "\n",
    "\n",
    "    # backward propagation\n",
    "    #   adjust the weights and biases to fit the data\n",
    "\n",
    "    # compute the derivatives of the weights and biases\n",
    "    # dW3\n",
    "    dA3 = 2 * (Y - A3)\n",
    "    dZ3 = sigmoid_d(A3)\n",
    "    dW3 = cp.dot(dA3 * dZ3, A2.T)\n",
    "    db3 = cp.sum(dZ3, axis=1, keepdims=True)\n",
    "\n",
    "    # dW2\n",
    "    dA2 = cp.dot(W3.T, dA3 * dZ3)\n",
    "    dZ2 = sigmoid_d(A2)\n",
    "    dW2 = cp.dot(dA2 * dZ2, A1.T)\n",
    "    db2 = cp.sum(dZ2, axis=1, keepdims=True)\n",
    "\n",
    "    # dW1\n",
    "    dA1 = cp.dot(W2.T, dA2 * dZ2)\n",
    "    dZ1 = sigmoid_d(A1)\n",
    "    dW1 = cp.dot(dA1 * dZ1, X.T)\n",
    "    db1 = cp.sum(dZ1, axis=1, keepdims=True)\n",
    "\n",
    "\n",
    "    # update parameters\n",
    "    W1 += learning_rate * dW1\n",
    "    W2 += learning_rate * dW2\n",
    "    W3 += learning_rate * dW3\n",
    "\n",
    "    b1 += learning_rate * db1\n",
    "    b2 += learning_rate * db2\n",
    "    b3 += learning_rate * db3"
   ],
   "metadata": {
    "collapsed": false,
    "pycharm": {
     "name": "#%%\n",
     "is_executing": true
    }
   }
  },
  {
   "cell_type": "code",
   "execution_count": 33,
   "outputs": [
    {
     "name": "stdout",
     "output_type": "stream",
     "text": [
      "[[4.63899183e-02]\n",
      " [1.19171803e-01]\n",
      " [8.31428322e-07]\n",
      " [1.83904681e-03]\n",
      " [1.18658392e-04]\n",
      " [1.84098189e-04]\n",
      " [2.49944049e-05]\n",
      " [7.10426175e-06]\n",
      " [1.58282508e-04]\n",
      " [1.61501315e-05]]\n"
     ]
    },
    {
     "name": "stderr",
     "output_type": "stream",
     "text": [
      "<ipython-input-10-b470dc76b000>:4: RuntimeWarning: overflow encountered in exp\n",
      "  return 1/(1+np.exp(-x))\n"
     ]
    },
    {
     "data": {
      "text/plain": "<Figure size 432x288 with 1 Axes>",
      "image/png": "[encoded data removed]"
     },
     "metadata": {
      "needs_background": "light"
     },
     "output_type": "display_data"
    }
   ],
   "source": [
    "# load a sample image from the test dataset\n",
    "# to evaluate the model\n",
    "\n",
    "img = cp.asarray(\n",
    "        Image.open(\n",
    "            dataset_path + \"\\\\testing\\\\0\\\\3.png\"\n",
    "        )\n",
    "    )\n",
    "plt.imshow(img)\n",
    "img = img.reshape((img.shape[0] * img.shape[1]))[:, cp.newaxis]\n",
    "\n",
    "X_n = img\n",
    "\n",
    "# predict\n",
    "Z1 = cp.dot(W1, X_n) + b1\n",
    "A1 = sigmoid(Z1)\n",
    "\n",
    "Z2 = cp.dot(W2, A1) + b2\n",
    "A2 = sigmoid(Z2)\n",
    "\n",
    "Z3 = cp.dot(W3, A2) + b3\n",
    "A3 = sigmoid(Z3)\n",
    "\n",
    "print(A3)\n"
   ],
   "metadata": {
    "collapsed": false,
    "pycharm": {
     "name": "#%%\n"
    }
   }
  }
 ],
 "metadata": {
  "kernelspec": {
   "display_name": "Python 3",
   "language": "python",
   "name": "python3"
  },
  "language_info": {
   "codemirror_mode": {
    "name": "ipython",
    "version": 2
   },
   "file_extension": ".py",
   "mimetype": "text/x-python",
   "name": "python",
   "nbconvert_exporter": "python",
   "pygments_lexer": "ipython2",
   "version": "2.7.6"
  }
 },
 "nbformat": 4,
 "nbformat_minor": 0
}