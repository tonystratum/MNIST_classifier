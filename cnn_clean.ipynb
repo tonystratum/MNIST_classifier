{
 "cells": [
  {
   "cell_type": "code",
   "execution_count": 1,
   "metadata": {
    "collapsed": true
   },
   "outputs": [],
   "source": [
    "import numpy as np\n",
    "import matplotlib.pyplot as plt\n",
    "from PIL import Image\n",
    "\n",
    "from load_dataset import load_dataset"
   ]
  },
  {
   "cell_type": "code",
   "execution_count": 2,
   "outputs": [],
   "source": [
    "# set path vars\n",
    "\n",
    "#dataset_path = \"C:\\\\Users\\\\user\\\\PycharmProjects\\\\my_cnn\\\\mnist_png\"\n",
    "dataset_path = 'mnist_png'"
   ],
   "metadata": {
    "collapsed": false,
    "pycharm": {
     "name": "#%%\n"
    }
   }
  },
  {
   "cell_type": "code",
   "execution_count": 3,
   "outputs": [],
   "source": [
    "# activation functions and their derivatives\n",
    "\n",
    "# sigmoid\n",
    "def sigmoid(x):\n",
    "    return 1/(1+np.exp(-x))\n",
    "\n",
    "#sigmoid derivative\n",
    "def sigmoid_d(x):\n",
    "    return np.exp(-x) / np.power(1 + np.exp(-x), 2.)"
   ],
   "metadata": {
    "collapsed": false,
    "pycharm": {
     "name": "#%%\n"
    }
   }
  },
  {
   "cell_type": "code",
   "execution_count": 4,
   "outputs": [],
   "source": [
    "# load the MNIST dataset\n",
    "\n",
    "dataset = load_dataset(dataset_path)\n",
    "X = dataset['train']['X']\n",
    "Y = dataset['train']['Y']"
   ],
   "metadata": {
    "collapsed": false,
    "pycharm": {
     "name": "#%%\n"
    }
   }
  },
  {
   "cell_type": "code",
   "execution_count": 5,
   "outputs": [],
   "source": [
    "# set the layer sizes\n",
    "\n",
    "layer_sizes = [\n",
    "    X.shape[0],\n",
    "    500,\n",
    "    100,\n",
    "    10\n",
    "]"
   ],
   "metadata": {
    "collapsed": false,
    "pycharm": {
     "name": "#%%\n"
    }
   }
  },
  {
   "cell_type": "code",
   "execution_count": 6,
   "outputs": [],
   "source": [
    "# initialize parameters\n",
    "\n",
    "W1 = np.random.randn(layer_sizes[1], layer_sizes[0])\n",
    "b1 = np.zeros((layer_sizes[1], 1))\n",
    "\n",
    "W2 = np.random.randn(layer_sizes[2], layer_sizes[1])\n",
    "b2 = np.zeros((layer_sizes[2], 1))\n",
    "\n",
    "W3 = np.random.randn(layer_sizes[3], layer_sizes[2])\n",
    "b3 = np.zeros((layer_sizes[3], 1))"
   ],
   "metadata": {
    "collapsed": false,
    "pycharm": {
     "name": "#%%\n"
    }
   }
  },
  {
   "cell_type": "code",
   "execution_count": 7,
   "outputs": [
    {
     "name": "stdout",
     "output_type": "stream",
     "text": [
      "cost: 4.267067687400898\n",
      "cost: 0.8554832819354512\n",
      "cost: 1.6912210209917442\n",
      "cost: 0.5689879727558569\n"
     ]
    },
    {
     "ename": "KeyboardInterrupt",
     "evalue": "",
     "output_type": "error",
     "traceback": [
      "\u001B[0;31m---------------------------------------------------------------------------\u001B[0m",
      "\u001B[0;31mKeyboardInterrupt\u001B[0m                         Traceback (most recent call last)",
      "\u001B[0;32m<ipython-input-7-659e76030474>\u001B[0m in \u001B[0;36m<module>\u001B[0;34m\u001B[0m\n\u001B[1;32m     14\u001B[0m     \u001B[0;31m# forward propagation\u001B[0m\u001B[0;34m\u001B[0m\u001B[0;34m\u001B[0m\u001B[0;34m\u001B[0m\u001B[0m\n\u001B[1;32m     15\u001B[0m     \u001B[0;31m#   push input data through the network\u001B[0m\u001B[0;34m\u001B[0m\u001B[0;34m\u001B[0m\u001B[0;34m\u001B[0m\u001B[0m\n\u001B[0;32m---> 16\u001B[0;31m     \u001B[0mZ1\u001B[0m \u001B[0;34m=\u001B[0m \u001B[0mnp\u001B[0m\u001B[0;34m.\u001B[0m\u001B[0mdot\u001B[0m\u001B[0;34m(\u001B[0m\u001B[0mW1\u001B[0m\u001B[0;34m,\u001B[0m \u001B[0mX\u001B[0m\u001B[0;34m)\u001B[0m \u001B[0;34m+\u001B[0m \u001B[0mb1\u001B[0m\u001B[0;34m\u001B[0m\u001B[0;34m\u001B[0m\u001B[0m\n\u001B[0m\u001B[1;32m     17\u001B[0m     \u001B[0mA1\u001B[0m \u001B[0;34m=\u001B[0m \u001B[0msigmoid\u001B[0m\u001B[0;34m(\u001B[0m\u001B[0mZ1\u001B[0m\u001B[0;34m)\u001B[0m\u001B[0;34m\u001B[0m\u001B[0;34m\u001B[0m\u001B[0m\n\u001B[1;32m     18\u001B[0m \u001B[0;34m\u001B[0m\u001B[0m\n",
      "\u001B[0;31mKeyboardInterrupt\u001B[0m: "
     ]
    }
   ],
   "source": [
    "# train the model\n",
    "\n",
    "iterations = 2500\n",
    "print_cost = True\n",
    "\n",
    "samples = X.shape[1] # number of training samples (60000 here)\n",
    "\n",
    "learning_rate = 0.00001\n",
    "\n",
    "cost = .0\n",
    "\n",
    "for i in range(iterations):\n",
    "\n",
    "    # forward propagation\n",
    "    #   push input data through the network\n",
    "    Z1 = np.dot(W1, X) + b1\n",
    "    A1 = sigmoid(Z1)\n",
    "\n",
    "    Z2 = np.dot(W2, A1) + b2\n",
    "    A2 = sigmoid(Z2)\n",
    "\n",
    "    Z3 = np.dot(W3, A2) + b3\n",
    "    A3 = sigmoid(Z3)\n",
    "\n",
    "    # MSE\n",
    "    #   cost function, to compute the error\n",
    "    cost = np.sum(np.power(Y - A3, 2.)) / samples\n",
    "    # cost = -1 / samples * sum([Y[0][i] * np.log(A3[0][i]) + (1 - Y[0][i]) * np.log(1 - AL[0][i]) for i in range(AL.shape[1])])\n",
    "\n",
    "    if print_cost and i % 5 == 0:\n",
    "        print('Cost: {} @ i = {}'.format(cost, i))\n",
    "\n",
    "\n",
    "    # backward propagation\n",
    "    #   adjust the weights and biases to fit the data\n",
    "\n",
    "    # compute the derivatives of the weights and biases\n",
    "    # dW3\n",
    "    dA3 = 2 * (Y - A3)\n",
    "    dZ3 = sigmoid_d(A3)\n",
    "    dW3 = np.dot(dA3 * dZ3, A2.T)\n",
    "    db3 = np.sum(dZ3, axis=1, keepdims=True)\n",
    "\n",
    "    # dW2\n",
    "    dA2 = np.dot(W3.T, dA3 * dZ3)\n",
    "    dZ2 = sigmoid_d(A2)\n",
    "    dW2 = np.dot(dA2 * dZ2, A1.T)\n",
    "    db2 = np.sum(dZ2, axis=1, keepdims=True)\n",
    "\n",
    "    # dW1\n",
    "    dA1 = np.dot(W2.T, dA2 * dZ2)\n",
    "    dZ1 = sigmoid_d(A1)\n",
    "    dW1 = np.dot(dA1 * dZ1, X.T)\n",
    "    db1 = np.sum(dZ1, axis=1, keepdims=True)\n",
    "\n",
    "\n",
    "    # update parameters\n",
    "    W1 += learning_rate * dW1\n",
    "    W2 += learning_rate * dW2\n",
    "    W3 += learning_rate * dW3\n",
    "\n",
    "    b1 += learning_rate * db1\n",
    "    b2 += learning_rate * db2\n",
    "    b3 += learning_rate * db3"
   ],
   "metadata": {
    "collapsed": false,
    "pycharm": {
     "name": "#%%\n"
    }
   }
  },
  {
   "cell_type": "code",
   "execution_count": 33,
   "outputs": [
    {
     "name": "stdout",
     "output_type": "stream",
     "text": [
      "[[4.63899183e-02]\n",
      " [1.19171803e-01]\n",
      " [8.31428322e-07]\n",
      " [1.83904681e-03]\n",
      " [1.18658392e-04]\n",
      " [1.84098189e-04]\n",
      " [2.49944049e-05]\n",
      " [7.10426175e-06]\n",
      " [1.58282508e-04]\n",
      " [1.61501315e-05]]\n"
     ]
    },
    {
     "name": "stderr",
     "output_type": "stream",
     "text": [
      "<ipython-input-10-b470dc76b000>:4: RuntimeWarning: overflow encountered in exp\n",
      "  return 1/(1+np.exp(-x))\n"
     ]
    },
    {
     "data": {
      "text/plain": "<Figure size 432x288 with 1 Axes>",
      "image/png": "[encoded data removed]"
     },
     "metadata": {
      "needs_background": "light"
     },
     "output_type": "display_data"
    }
   ],
   "source": [
    "# load a sample image from the test dataset\n",
    "# to evaluate the model\n",
    "\n",
    "img = np.asarray(\n",
    "        Image.open(\n",
    "            dataset_path + \"\\\\testing\\\\0\\\\3.png\"\n",
    "        )\n",
    "    )\n",
    "plt.imshow(img)\n",
    "img = img.reshape((img.shape[0] * img.shape[1]))[:, np.newaxis]\n",
    "\n",
    "X_n = img\n",
    "\n",
    "# predict\n",
    "Z1 = np.dot(W1, X_n) + b1\n",
    "A1 = sigmoid(Z1)\n",
    "\n",
    "Z2 = np.dot(W2, A1) + b2\n",
    "A2 = sigmoid(Z2)\n",
    "\n",
    "Z3 = np.dot(W3, A2) + b3\n",
    "A3 = sigmoid(Z3)\n",
    "\n",
    "print(A3)\n"
   ],
   "metadata": {
    "collapsed": false,
    "pycharm": {
     "name": "#%%\n"
    }
   }
  }
 ],
 "metadata": {
  "kernelspec": {
   "display_name": "Python 3",
   "language": "python",
   "name": "python3"
  },
  "language_info": {
   "codemirror_mode": {
    "name": "ipython",
    "version": 2
   },
   "file_extension": ".py",
   "mimetype": "text/x-python",
   "name": "python",
   "nbconvert_exporter": "python",
   "pygments_lexer": "ipython2",
   "version": "2.7.6"
  }
 },
 "nbformat": 4,
 "nbformat_minor": 0
}